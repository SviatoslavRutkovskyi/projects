{
 "cells": [
  {
   "cell_type": "markdown",
   "metadata": {},
   "source": [
    "This is a cover letter builder using agentic ai\n"
   ]
  },
  {
   "cell_type": "code",
   "execution_count": null,
   "metadata": {},
   "outputs": [
    {
     "ename": "",
     "evalue": "",
     "output_type": "error",
     "traceback": [
      "\u001b[1;31mRunning cells with '.venv (Python 3.12.1)' requires the ipykernel package.\n",
      "\u001b[1;31mRun the following command to install 'ipykernel' into the Python environment. \n",
      "\u001b[1;31mCommand: '\"c:/Code/Work Projects/projects/.venv/Scripts/python.exe\" -m pip install ipykernel -U --force-reinstall'"
     ]
    }
   ],
   "source": [
    "#imports\n",
    "\n",
    "from dotenv import load_dotenv\n",
    "from openai import OpenAI\n",
    "from pypdf import PdfReader\n",
    "import gradio as gr\n",
    "from pydantic import BaseModel\n",
    "import requests\n",
    "from bs4 import BeautifulSoup\n",
    "from IPython.display import Markdown, display"
   ]
  },
  {
   "cell_type": "code",
   "execution_count": 95,
   "metadata": {},
   "outputs": [
    {
     "data": {
      "text/plain": [
       "True"
      ]
     },
     "execution_count": 95,
     "metadata": {},
     "output_type": "execute_result"
    }
   ],
   "source": [
    "load_dotenv(override=True)\n"
   ]
  },
  {
   "cell_type": "code",
   "execution_count": 96,
   "metadata": {},
   "outputs": [],
   "source": [
    "openai = OpenAI()"
   ]
  },
  {
   "cell_type": "code",
   "execution_count": 97,
   "metadata": {},
   "outputs": [],
   "source": [
    "creator_model = \"gpt-4o\"\n",
    "evaluator_model = \"o4-mini\""
   ]
  },
  {
   "cell_type": "code",
   "execution_count": 98,
   "metadata": {},
   "outputs": [],
   "source": [
    "with open(\"../about/summary.txt\", \"r\", encoding=\"utf-8\") as f:\n",
    "    summary = f.read()\n",
    "\n",
    "with open(\"../about/cover_letter_template.txt\", \"r\", encoding=\"utf-8\") as f:\n",
    "    cover_letter_template = f.read()\n",
    "    "
   ]
  },
  {
   "cell_type": "code",
   "execution_count": 99,
   "metadata": {},
   "outputs": [],
   "source": [
    "reader = PdfReader(\"../about/resume.pdf\")\n",
    "resume = \"\"\n",
    "for page in reader.pages:\n",
    "    text = page.extract_text()\n",
    "    if text:\n",
    "        resume += text"
   ]
  },
  {
   "cell_type": "code",
   "execution_count": 100,
   "metadata": {},
   "outputs": [],
   "source": [
    "name = \"Charles McTurland\"\n"
   ]
  },
  {
   "cell_type": "code",
   "execution_count": 101,
   "metadata": {},
   "outputs": [],
   "source": [
    "system_prompt = f\"\"\"You are a proffesional cover letter writer, and your job is to write a cover letter for {name}, highlighting {name}'s skills, experience, and achievements. \n",
    "particularly questions related to {name}'s career, background, skills and experience. \n",
    "Your responsibility is to represent {name} in the letter as faithfully as possible. \n",
    "You are given a summary of {name}'s background and Resume which you can use in the cover letter. \n",
    "You are given an example of a cover letter from {name}. Try and use a similar language and style. Do NOT include the placeholder information in the cover letter. \n",
    "Be professional and engaging, uing the tone and style suitable for a cover letter.\n",
    "Do not make up any information, and only use the information provided.\n",
    "Don't be too verbose, and use a 3 paragraph format.\n",
    "Respond with a cover letter and nothing else.\n",
    "Do not include the address or contact information. \n",
    "You will be given a job description, and you will need to tailor the cover letter to the job description.\n",
    "You will be evaluated, and if evalutor decides that your cover letter is not up to standart, you will be given your previus cover letters and feedback on them. \n",
    "You have to listen to the feedback, and improve your cover letter accordingly to the feedback.\n",
    "\\n\\n## Summary:\\n{summary}\\n\\n## Resume:\\n{resume}\\n\\n ## Cover Letter Template:\\n{cover_letter_template}\\n\\n\n",
    "\"\"\"\n",
    "\n"
   ]
  },
  {
   "cell_type": "code",
   "execution_count": 102,
   "metadata": {},
   "outputs": [],
   "source": [
    "\n",
    "updated_system_prompt = system_prompt"
   ]
  },
  {
   "cell_type": "code",
   "execution_count": 103,
   "metadata": {},
   "outputs": [],
   "source": [
    "evaluator_system_prompt = f\"\"\"\n",
    "You are a professional evaluator that decides whether a cover letter is acceptable. \n",
    "You are provided with {name}'s summary and resume, an example of a cover letter from {name}, the job description, and the cover letter. \n",
    "Your task is to evaluate the cover letter, and reply with whether it is acceptable and your feedback. \n",
    "You need to ensure if the cover letter is professional, engaging, and tailored to the job description. \n",
    "You need to ensure if the cover letter was likely made by AI, and if it was made by AI, deny it, and provide feedback. Do not allow AI generated cover letters.\n",
    "You need to ensure that the cover letter has a strong and engaging opening paragraph. \n",
    "You need to ensure that the cover letter is concise and uses the standard 3 paragraph format.\n",
    "Here's the information:\n",
    "\\n\\n## Summary:\\n{summary}\\n\\n## Resume:\\n{resume}\\n\\n## Cover Letter Template:\\n{cover_letter_template}\\n\\n\n",
    "With this context, please evaluate the cover letter, replying with whether the cover letter is acceptable and your feedback.\n",
    "\"\"\""
   ]
  },
  {
   "cell_type": "code",
   "execution_count": 104,
   "metadata": {},
   "outputs": [],
   "source": [
    "class Evaluation(BaseModel):\n",
    "    is_acceptable: bool\n",
    "    feedback: str"
   ]
  },
  {
   "cell_type": "code",
   "execution_count": 105,
   "metadata": {},
   "outputs": [],
   "source": [
    "def evaluator_cover_letter(job_post, cover_letter):\n",
    "    return f\"\"\"\n",
    "    Here's the job posting presented by the user: \\n\\n{job_post}\\n\\n\n",
    "    Here's the cover letter generated by the agent: \\n\\n{cover_letter}\\n\\n\n",
    "    Please evaluate the response, replying with whether it is acceptable and your extensive feedback.\n",
    "    \"\"\""
   ]
  },
  {
   "cell_type": "code",
   "execution_count": 106,
   "metadata": {},
   "outputs": [],
   "source": [
    "def update_system_prompt(cover_letter, feedback):\n",
    "        global updated_system_prompt\n",
    "        updated_system_prompt = updated_system_prompt + f\"\"\"\n",
    "        \\n\\n## Previous cover letter rejected\\nYou just tried to create a cover letter, but the quality control rejected your cover letter\\n\n",
    "        ## Your attempted cover letter:\\n{cover_letter}\\n\\n\n",
    "        ## Reason for rejection:\\n{feedback}\\n\\n\n",
    "        \"\"\"\n",
    "        return updated_system_prompt;"
   ]
  },
  {
   "cell_type": "code",
   "execution_count": 107,
   "metadata": {},
   "outputs": [],
   "source": [
    "def evaluate(job_post, cover_letter) -> Evaluation:\n",
    "    messages = [\n",
    "        {\"role\": \"system\", \"content\": evaluator_system_prompt},\n",
    "        {\"role\": \"user\", \"content\": evaluator_cover_letter(job_post, cover_letter)},\n",
    "        {\"role\": \"user\", \"content\": \"Reply ONLY in valid JSON: {\\\"is_acceptable\\\": true/false, \\\"feedback\\\": \\\"...\\\"}\"}\n",
    "    ]\n",
    "    response = openai.responses.parse(\n",
    "        model=evaluator_model,\n",
    "        reasoning = {\"effort\":\"high\"},\n",
    "        input=messages,\n",
    "        text_format = Evaluation,\n",
    "        )\n",
    "    return response.output_parsed"
   ]
  },
  {
   "cell_type": "code",
   "execution_count": 108,
   "metadata": {},
   "outputs": [],
   "source": [
    "def run(prompt, job_posting):\n",
    "    messages = [{\"role\": \"system\", \"content\": prompt}] + [{\"role\": \"user\", \"content\": job_posting}]\n",
    "    response = openai.chat.completions.create(model=creator_model, messages=messages)\n",
    "    return response.choices[0].message.content"
   ]
  },
  {
   "cell_type": "code",
   "execution_count": 109,
   "metadata": {},
   "outputs": [],
   "source": [
    "\n",
    "def scrape_webpage_simple(url):\n",
    "    try:\n",
    "        # Set headers to mimic a real browser\n",
    "        headers = {\n",
    "            'User-Agent': 'Mozilla/5.0'\n",
    "        }\n",
    "        \n",
    "        # Make the request\n",
    "        response = requests.get(url, headers=headers, timeout=10)\n",
    "        response.raise_for_status()  # Raise an error for bad status codes\n",
    "        \n",
    "        # Parse the HTML\n",
    "        soup = BeautifulSoup(response.content, 'html.parser')\n",
    "\n",
    "        # Get all text content\n",
    "        return soup.get_text()\n",
    "        \n",
    "        \n",
    "    except requests.RequestException:\n",
    "        return 'error'\n",
    "    except Exception:\n",
    "        return 'error'\n"
   ]
  },
  {
   "cell_type": "code",
   "execution_count": 110,
   "metadata": {},
   "outputs": [],
   "source": [
    "def requestLetter(job_posting, history):\n",
    "    global updated_system_prompt\n",
    "    page = scrape_webpage_simple(job_posting)\n",
    "    print(page)\n",
    "    if page == 'error':\n",
    "        print(\"Failed to scrape job posting\")\n",
    "    else:\n",
    "        job_posting = page\n",
    "\n",
    "    cover_letter = run(system_prompt, job_posting)\n",
    "\n",
    "    eval_counter = 0\n",
    "    while eval_counter < 10:\n",
    "        evaluation = evaluate(job_posting, cover_letter)\n",
    "        if evaluation.is_acceptable:\n",
    "            print(\"Passed evaluation - returning reply\")\n",
    "            display(Markdown(f\"## Cover Letter:\\n{cover_letter}\"));\n",
    "            display(Markdown(f\"## Feedback:\\n{evaluation.feedback}\"))\n",
    "            display(Markdown(f\"## Updated system prompt:\\n{updated_system_prompt}\"))\n",
    "            updated_system_prompt = system_prompt;\n",
    "            return cover_letter\n",
    "        else:\n",
    "            eval_counter += 1\n",
    "            print(\"Failed evaluation - retrying\")\n",
    "            display(Markdown(f\"## Cover Letter:\\n{cover_letter}\"))\n",
    "            display(Markdown(f\"## Feedback:\\n{evaluation.feedback}\"))\n",
    "            cover_letter = run(update_system_prompt(cover_letter, evaluation.feedback), job_posting)\n",
    "    print(\"Failed evaluation - returning reply\")\n",
    "    return \"Unable to generate cover letter\" +\"\\n\" + evaluation.feedback    \n",
    "    "
   ]
  },
  {
   "cell_type": "code",
   "execution_count": 111,
   "metadata": {},
   "outputs": [
    {
     "name": "stdout",
     "output_type": "stream",
     "text": [
      "* Running on local URL:  http://127.0.0.1:7865\n",
      "* To create a public link, set `share=True` in `launch()`.\n"
     ]
    },
    {
     "data": {
      "text/html": [
       "<div><iframe src=\"http://127.0.0.1:7865/\" width=\"100%\" height=\"500\" allow=\"autoplay; camera; microphone; clipboard-read; clipboard-write;\" frameborder=\"0\" allowfullscreen></iframe></div>"
      ],
      "text/plain": [
       "<IPython.core.display.HTML object>"
      ]
     },
     "metadata": {},
     "output_type": "display_data"
    },
    {
     "data": {
      "text/plain": []
     },
     "execution_count": 111,
     "metadata": {},
     "output_type": "execute_result"
    },
    {
     "name": "stdout",
     "output_type": "stream",
     "text": [
      "error\n",
      "Failed to scrape job posting\n",
      "Failed evaluation - retrying\n"
     ]
    },
    {
     "data": {
      "text/markdown": [
       "## Cover Letter:\n",
       "[Today's Date]\n",
       "\n",
       "[First Name] [Last Name]\n",
       "Subplot.ai\n",
       "New York City\n",
       "\n",
       "Dear [First Name] [Last Name],\n",
       "\n",
       "I am writing to express my keen interest in the AI Go-to-Market Innovator Internship at Subplot.ai, as advertised. As an aspiring software developer with a strong academic foundation in Computer Science from the University of Washington Tacoma (3.9 GPA) and hands-on experience in team leadership, I am excited about the opportunity to further explore AI-driven innovation and contribute to Subplot.ai's mission of leveraging AI to transform operations.\n",
       "\n",
       "During my studies, I developed a strong proficiency in a variety of programming languages and frameworks, including JavaScript and Python, as demonstrated by my role as leader in multiple projects such as developing a full-stack web application and building machine learning models. These experiences not only honed my technical abilities but also reinforced my problem-solving and collaborative skills in dynamic environments. My role as a Sergeant in the US Army Reserves further developed my leadership and adaptability, qualities I am eager to bring to the collaborative and rapidly-evolving environment at Subplot.ai.\n",
       "\n",
       "I am particularly drawn to this internship due to the emphasis on creativity and iterative learning, as well as the opportunity to engage with cutting-edge AI tools such as generative UX/UI platforms. Subplot.ai’s commitment to innovation and real-world impact resonates with my own passion for making a positive change through technology. I am excited about the prospect of contributing to your team, learning, and growing with Subplot.ai. Thank you for considering my application. I look forward to the opportunity to discuss how my background, skills, and enthusiasms align with the goals of Subplot.ai.\n",
       "\n",
       "Sincerely,\n",
       "\n",
       "Sviatoslav Rutkovskyi"
      ],
      "text/plain": [
       "<IPython.core.display.Markdown object>"
      ]
     },
     "metadata": {},
     "output_type": "display_data"
    },
    {
     "data": {
      "text/markdown": [
       "## Feedback:\n",
       "This letter reads like a generic AI output and is not sufficiently tailored to the AI Go-to-Market Innovator Internship at Subplot.ai. You left placeholder text for the hiring manager’s name, which comes across as unprofessional. While your technical background is strong, the role focuses on rapid prototyping with generative UX/UI tools, go-to-market campaigns, and sales/marketing experimentation—none of which you address with concrete examples. You need a more engaging opening that cites Subplot.ai’s specific mission (e.g. AI Vertical Agents, spreadsheet automation, entrepreneurial focus), a middle paragraph that demonstrates relevant experience in outbound outreach, digital marketing, or UX prototyping tools (v0, Lovable, Windsurf), and a closing that clearly states your enthusiasm for product-market fit experimentation and calls the reader to action. Finally, tighten the language to three concise paragraphs, remove all placeholders, and inject personality by citing why Subplot.ai specifically excites you."
      ],
      "text/plain": [
       "<IPython.core.display.Markdown object>"
      ]
     },
     "metadata": {},
     "output_type": "display_data"
    },
    {
     "name": "stdout",
     "output_type": "stream",
     "text": [
      "Failed evaluation - retrying\n"
     ]
    },
    {
     "data": {
      "text/markdown": [
       "## Cover Letter:\n",
       "[Today's Date]\n",
       "\n",
       "Subplot.ai\n",
       "New York City\n",
       "\n",
       "Dear Hiring Manager,\n",
       "\n",
       "I am excited to apply for the AI Go-to-Market Innovator Internship at Subplot.ai for Summer 2025. As an aspiring software developer with a strong foundation in Computer Science from the University of Washington Tacoma and a 3.9 GPA, I am enthusiastic about the opportunity to contribute to Subplot.ai's mission of leveraging AI to transform operations within various verticals. Your commitment to innovation and entrepreneurial spirit aligns perfectly with my career aspirations.\n",
       "\n",
       "In my academic journey and project leadership experiences, such as developing full-stack web applications and machine learning models, I have honed my technical skills in programming and problem-solving. More importantly, these experiences taught me how to work collaboratively in dynamic environments, a skill further enhanced by my leadership role as a Sergeant in the US Army Reserves. While I haven't worked directly with UX/UI tools like v0, Lovable, or Windsurf, I am eager to adapt and learn, bringing a fresh and curious perspective to AI-driven product prototyping and market exploration.\n",
       "\n",
       "Subplot.ai’s focus on AI-powered sales development and spreadsheet automation particularly resonates with me, as it reflects my passion for creating solutions that improve productivity and efficiency. I am eager to explore the intersection of AI and market strategies, engage with innovative projects, and contribute to the rapid growth of Subplot.ai. Thank you for considering my application. I look forward to the opportunity to discuss how my background and enthusiasm align with Subplot.ai's vision.\n",
       "\n",
       "Sincerely,\n",
       "\n",
       "Sviatoslav Rutkovskyi"
      ],
      "text/plain": [
       "<IPython.core.display.Markdown object>"
      ]
     },
     "metadata": {},
     "output_type": "display_data"
    },
    {
     "data": {
      "text/markdown": [
       "## Feedback:\n",
       "This cover letter, while structurally sound, feels generic and lacks the personalization needed for Subplot.ai. It reads like an AI‐generated template rather than a tailored, human-crafted letter. To improve:\n",
       "\n",
       "1. Stronger, More Specific Opening: Reference Subplot.ai’s mission—mention AI vertical agents, your excitement about v0/Lovable/Windsurf prototyping tools, or a specific initiative you admire.\n",
       "2. Highlight Relevant Experience: Instead of saying “I haven’t used UX/UI tools,” pivot to how your quick‐learning approach enabled you to master unfamiliar technologies in past projects. Tie a project directly to outbound campaigns or market testing to match key responsibilities.\n",
       "3. Demonstrate Sales/Go-to-Market Skills: Provide a concrete example where you led outreach, gathered customer feedback, or iterated on a product based on market insights—this aligns with their core needs.\n",
       "4. Humanize the Tone: Replace generic phrases (“I am excited,” “I am eager”) with vivid details or a brief anecdote that underscores your entrepreneurial spirit and passion for AI-driven product discovery.\n",
       "5. Closing with Next Steps: End by expressing a desire to discuss specific ideas—for example, how you’d approach an initial go-to-market campaign—reinforcing your proactive mindset.\n",
       "\n",
       "Implementing these changes will make your cover letter more engaging, personalized, and aligned with Subplot.ai’s entrepreneurial, AI-focused culture."
      ],
      "text/plain": [
       "<IPython.core.display.Markdown object>"
      ]
     },
     "metadata": {},
     "output_type": "display_data"
    },
    {
     "name": "stdout",
     "output_type": "stream",
     "text": [
      "Failed evaluation - retrying\n"
     ]
    },
    {
     "data": {
      "text/markdown": [
       "## Cover Letter:\n",
       "[Today's Date]\n",
       "\n",
       "Subplot.ai\n",
       "New York City\n",
       "\n",
       "Dear Hiring Manager,\n",
       "\n",
       "I am thrilled to apply for the AI Go-to-Market Innovator Internship at Subplot.ai for Summer 2025, a role that aligns perfectly with my passion for entrepreneurship and AI-driven innovation. As a recent Computer Science graduate from the University of Washington Tacoma with a 3.9 GPA, I am eager to contribute to Subplot.ai's mission of automating operations through cutting-edge AI vertical agents. Your focus on spreadsheet automation and AI-powered sales development truly resonates with my aspiration to create impactful solutions that enhance productivity.\n",
       "\n",
       "Throughout my academic journey, I have honed my technical and collaborative skills through dynamic projects. Leading a team in developing a full-stack bookkeeping web app and creating machine learning models taught me adaptability and quick learning in diverse tech environments. While my direct experience with UX/UI tools like v0, Lovable, or Windsurf is limited, my background in swiftly mastering new technologies, as demonstrated through my use of Docker and React, prepares me to effectively engage with these innovative tools. Serving as a Sergeant in the US Army Reserves further instilled vital leadership and problem-solving skills, which I am excited to bring to Subplot.ai's fast-paced startup landscape.\n",
       "\n",
       "Subplot.ai's commitment to iterative product development and entrepreneurial methodologies excites me. I am particularly drawn to the opportunity to launch AI-enhanced outreach campaigns and test market strategies—tasks that echo my relentless curiosity and drive for excellence. I am eager to contribute to your team, refine products through real-world feedback, and explore the intersection of AI and market strategy. Thank you for considering my application. I look forward to potentially discussing how my skills and fervor align with Subplot.ai's vision of transforming operational productivity.\n",
       "\n",
       "Sincerely,\n",
       "\n",
       "Sviatoslav Rutkovskyi"
      ],
      "text/plain": [
       "<IPython.core.display.Markdown object>"
      ]
     },
     "metadata": {},
     "output_type": "display_data"
    },
    {
     "data": {
      "text/markdown": [
       "## Feedback:\n",
       "This letter is well-structured and generally professional, but it reads like a generic, AI-generated template rather than a genuine, personalized application. To make it stronger and more authentic:\n",
       "\n",
       "1. Personalize the opening: Reference a specific Subplot.ai project or vertical agent you admire to show you’ve done your homework.  \n",
       "2. Highlight relevant hands-on experience: Instead of apologizing for limited UX/UI tool experience, frame your ability to learn by citing a concrete example of mastering Docker or React under deadline.  \n",
       "3. Add a brief anecdote: Share a two-sentence story about a time you used AI or led a go-to-market effort—this will make your passion more tangible.  \n",
       "4. Quantify your impact: If you’ve ever improved a process, boosted engagement, or prototyped a tool, include numbers or outcomes.  \n",
       "5. Strengthen your closing: Replace “potentially discussing” with an active call to action, e.g., “I look forward to the opportunity to discuss how I can contribute to Subplot.ai’s next AI product launch.”\n",
       "\n",
       "Revising in these ways will help the letter feel more human, more engaging, and better aligned with Subplot.ai’s entrepreneurial culture."
      ],
      "text/plain": [
       "<IPython.core.display.Markdown object>"
      ]
     },
     "metadata": {},
     "output_type": "display_data"
    },
    {
     "name": "stdout",
     "output_type": "stream",
     "text": [
      "Failed evaluation - retrying\n"
     ]
    },
    {
     "data": {
      "text/markdown": [
       "## Cover Letter:\n",
       "[Today's Date]\n",
       "\n",
       "Subplot.ai\n",
       "New York City\n",
       "\n",
       "Dear Hiring Manager,\n",
       "\n",
       "I am thrilled to apply for the AI Go-to-Market Innovator Internship at Subplot.ai for Summer 2025. As a recent Computer Science graduate from the University of Washington Tacoma with a 3.9 GPA, I am eager to contribute to Subplot.ai's mission of automating operations through cutting-edge AI vertical agents. Your emphasis on spreadsheet automation and AI-powered sales development aligns perfectly with my goal of creating impactful solutions that enhance productivity.\n",
       "\n",
       "Throughout my academic journey, I have honed my technical and collaborative skills through dynamic projects, such as leading a team in developing a full-stack bookkeeping web app and creating machine learning models. These experiences taught me adaptability and quick learning in diverse tech environments, skills that I believe are crucial for this role. While I am new to UX/UI tools like v0, Lovable, or Windsurf, my efficient learning approach, as demonstrated by mastering Docker and React, positions me well to engage effectively with these innovative platforms. Moreover, my leadership role in the US Army Reserves has instilled in me vital problem-solving and leadership abilities that I am excited to bring to Subplot.ai’s fast-paced startup landscape.\n",
       "\n",
       "I am particularly drawn to Subplot.ai’s commitment to iterative product development and entrepreneurial methodologies. I am excited about the opportunity to launch AI-enhanced outreach campaigns and test market strategies, tasks that resonate with my relentless curiosity and drive for excellence. I am eager to bring my skills, enthusiasm, and fresh perspectives to your team. Thank you for considering my application. I look forward to the opportunity to discuss how I can contribute to Subplot.ai's next AI product launch.\n",
       "\n",
       "Sincerely,\n",
       "\n",
       "Sviatoslav Rutkovskyi"
      ],
      "text/plain": [
       "<IPython.core.display.Markdown object>"
      ]
     },
     "metadata": {},
     "output_type": "display_data"
    },
    {
     "data": {
      "text/markdown": [
       "## Feedback:\n",
       "This letter is professional and well-structured in three paragraphs, but it reads as a generic AI-style template rather than a personalized application. It lacks concrete details about Subplot.ai (no mention of real projects or company goals beyond broad mission statements) and doesn’t demonstrate hands-on experience or research with the specific tools (v0, Lovable, Windsurf) you’ll be using. It also opens and closes with standard phrases that could apply to any startup.\n",
       "\n",
       "To improve:\n",
       "1. Personalize the greeting and opening: Address a real person or team and start with a compelling reason you’re drawn to Subplot.ai’s current work (mention a recent product or blog post).\n",
       "2. Use one or two specific examples: Describe a past project in which you rapidly prototyped a UI or ran an outbound campaign—include metrics or outcomes.\n",
       "3. Tie your skills directly to the internship responsibilities: Show you’ve researched tools like v0 or Windsurf (even if you’ve only experimented) and explain how you’d apply them here.\n",
       "4. Replace generic statements (“I am thrilled,” “eager to contribute”) with concise, concrete evidence of your fit.  \n",
       "\n",
       "By incorporating these elements, your letter will feel authentic, targeted, and clearly written by you rather than generated by AI."
      ],
      "text/plain": [
       "<IPython.core.display.Markdown object>"
      ]
     },
     "metadata": {},
     "output_type": "display_data"
    },
    {
     "name": "stdout",
     "output_type": "stream",
     "text": [
      "Failed evaluation - retrying\n"
     ]
    },
    {
     "data": {
      "text/markdown": [
       "## Cover Letter:\n",
       "[Today's Date]\n",
       "\n",
       "Subplot.ai\n",
       "New York City\n",
       "\n",
       "Dear [Hiring Manager's Name],\n",
       "\n",
       "I am writing to express my enthusiasm for the AI Go-to-Market Innovator Internship at Subplot.ai for Summer 2025. As a Computer Science graduate with a 3.9 GPA from the University of Washington Tacoma, I am eager to merge my technical skills with Subplot.ai's vision of leveraging AI for transformative operational solutions. The opportunity to work with cutting-edge AI vertical agents and engage in rapid product prototyping resonates deeply with my passion for AI and innovation.\n",
       "\n",
       "Throughout my academic career, I have led dynamic projects that honed my ability to adapt and learn quickly, such as developing a full-stack bookkeeping web app and creating machine learning models for social media data analysis. My experience in mastering new frameworks, like Docker and React, prepares me to excel with UX/UI prototyping tools like v0, Lovable, and Windsurf. Additionally, my leadership role as a Sergeant in the US Army Reserves has equipped me with strong problem-solving and communication skills, essential for launching sales campaigns and refining strategies based on real-world feedback.\n",
       "\n",
       "The entrepreneurial spirit and dedication to AI-driven productivity at Subplot.ai align perfectly with my career goals. I am particularly drawn to the chance to lead AI-enhanced outreach campaigns and test market strategies to achieve product-market fit. I look forward to contributing my skills and enthusiasm to your team and exploring innovative intersections of AI and market strategies. Thank you for considering my application—I am excited about the possibility of discussing how my experience and interests align with Subplot.ai's vision.\n",
       "\n",
       "Sincerely,\n",
       "\n",
       "Sviatoslav Rutkovskyi"
      ],
      "text/plain": [
       "<IPython.core.display.Markdown object>"
      ]
     },
     "metadata": {},
     "output_type": "display_data"
    },
    {
     "data": {
      "text/markdown": [
       "## Feedback:\n",
       "This letter reads like a generic AI template rather than a thoughtfully crafted, personalized message. It fails to:\n",
       "\n",
       "1. Personalize: You left placeholders (e.g. [Hiring Manager’s Name]) and didn’t mention any specifics about Subplot.ai’s products, culture, or mission beyond a one-sentence nod. Research the company, address the letter to a real person, and cite concrete details that excite you.\n",
       "\n",
       "2. Showcase relevant experience: The role emphasizes go-to-market strategies, outbound sales, and rapid prototyping with AI UX tools. Your letter highlights academic projects and Army leadership, but you don’t demonstrate any hands-on marketing, sales outreach, or UX prototyping experience (even if it’s self-driven). Show how you’ve run campaigns, tested hypotheses, used A/B testing, or built prototypes—real or side projects.\n",
       "\n",
       "3. Create an engaging opening: Begin with a strong hook tied to Subplot.ai’s mission or a recent accomplishment. Instead of “I am writing to express my enthusiasm,” try something like: “When I discovered Subplot.ai’s spreadsheet-automation agent that increased team efficiency by 40%, I knew I had to join your summer internship to help drive similar breakthroughs across new verticals.”\n",
       "\n",
       "4. Maintain crisp, clear structure: While you have three paragraphs, each could be more focused. Paragraph 1 should hook and align your passion with Subplot.ai. Paragraph 2 should deliver two or three tailored achievements showing exactly how you’ll add value in prototyping, marketing, and iteration. Paragraph 3 should reiterate your enthusiasm, invite a conversation, and include a proper sign-off.\n",
       "\n",
       "By addressing these points—filling in real names, drilling into directly relevant experiences, and leading with a compelling company-focused hook—you’ll have a much stronger, authentic cover letter."
      ],
      "text/plain": [
       "<IPython.core.display.Markdown object>"
      ]
     },
     "metadata": {},
     "output_type": "display_data"
    },
    {
     "name": "stdout",
     "output_type": "stream",
     "text": [
      "Failed evaluation - retrying\n"
     ]
    },
    {
     "data": {
      "text/markdown": [
       "## Cover Letter:\n",
       "[Today's Date]\n",
       "\n",
       "Subplot.ai\n",
       "New York City\n",
       "\n",
       "Dear [Hiring Manager's Name],\n",
       "\n",
       "I am excited to apply for the AI Go-to-Market Innovator Internship at Subplot.ai for Summer 2025. As a recent Computer Science graduate from the University of Washington Tacoma, I am eager to contribute to Subplot.ai’s mission of pioneering AI vertical agents to enhance productivity across various domains. Your focus on spreadsheet automation and AI-powered sales development aligns with my passion for leveraging technology to create meaningful solutions.\n",
       "\n",
       "During my academic tenure, I have cultivated a strong foundation in software development and project leadership, leading initiatives such as a full-stack web application and machine learning models for social media analysis. These experiences exemplify my adaptability and rapid learning ability, particularly in mastering unfamiliar tools and frameworks. Although I have not previously used UX/UI tools like v0, Lovable, or Windsurf, my proficiency with technologies like Docker and React demonstrates my capability to quickly adapt to new platforms. Furthermore, my leadership role in the US Army Reserves has equipped me with essential skills in problem-solving and communication, vital for executing effective sales campaigns and refining products based on market feedback.\n",
       "\n",
       "Subplot.ai's commitment to innovative product development and agile methodologies excites me, particularly the opportunity to design AI-driven products using generative UX tools and spearhead AI-enhanced outreach campaigns. I am driven to apply my skills in a dynamic startup environment and am eager to contribute to your team’s success in transforming operational productivity through AI. I look forward to discussing how my skills and passion can align with Subplot.ai's ambitious goals.\n",
       "\n",
       "Sincerely,\n",
       "\n",
       "Sviatoslav Rutkovskyi"
      ],
      "text/plain": [
       "<IPython.core.display.Markdown object>"
      ]
     },
     "metadata": {},
     "output_type": "display_data"
    },
    {
     "data": {
      "text/markdown": [
       "## Feedback:\n",
       "This cover letter currently reads as a generic, AI-generated template rather than a tailored response to Subplot.ai’s internship. Key issues:\n",
       "\n",
       "1. Placeholders Left Unedited: You still have “Dear [Hiring Manager's Name]” and no date or your contact block at the top. Always replace placeholders and include a proper header with your name, address, and date.\n",
       "\n",
       "2. Lack of Personalization: You mention Subplot.ai’s broad mission but don’t reference any specific product, recent milestone, or challenge the company is facing. Research the startup’s website or blog, then cite one concrete example of what excites you—this shows genuine interest.\n",
       "\n",
       "3. Weak, Generic Opening: Instead of “I am excited to apply…,” open with a compelling hook: e.g. “When I saw Subplot.ai’s recent demo of AI Vertical Agents in action at TechCrunch Disrupt, I knew I had to join your team.” Make the first sentence memorable.\n",
       "\n",
       "4. Insufficient Alignment with Role Responsibilities: The job calls for rapidly prototyping with tools like v0, Lovable, and Windsurf and executing AI-enhanced go-to-market campaigns. You concede you’ve never used those tools; instead, outline how you would learn them (e.g. “Within 48 hours I’ll be working through the v0 docs to build a click-through prototype…”) and how your past projects demonstrate the same skills (e.g. rapid iteration, user testing, data-driven pivots).\n",
       "\n",
       "5. Three-Paragraph Structure Needs Refinement: While you technically have three paragraphs, the middle one tries to cover too much. Break it into two: one focused on technical prototyping experience and one on your go-to-market or sales outreach skills, each with a concrete example.\n",
       "\n",
       "6. Closing Lacks Impact: Rather than “I look forward to discussing…,” end by reinforcing what you’ll bring on day one and include a call to action: “I’d love the chance to prototype my first AI agent for your team—shall we schedule a 15-minute chat next week?”\n",
       "\n",
       "By replacing placeholders, sharpening your opening, weaving in specific details about Subplot.ai’s products, and clearly mapping your hands-on experiences to the internship’s core responsibilities, you’ll transform this generic draft into a compelling, company-focused cover letter."
      ],
      "text/plain": [
       "<IPython.core.display.Markdown object>"
      ]
     },
     "metadata": {},
     "output_type": "display_data"
    },
    {
     "name": "stdout",
     "output_type": "stream",
     "text": [
      "Failed evaluation - retrying\n"
     ]
    },
    {
     "data": {
      "text/markdown": [
       "## Cover Letter:\n",
       "[Today's Date]\n",
       "\n",
       "Subplot.ai\n",
       "New York City\n",
       "\n",
       "Dear [Hiring Manager's Name],\n",
       "\n",
       "When I encountered Subplot.ai's exciting intersection of AI-driven innovation and entrepreneurial spirit, I was eager to apply for the AI Go-to-Market Innovator Internship for Summer 2025. As a recent Computer Science graduate from the University of Washington Tacoma with a passion for design thinking and problem-solving, I am excited about contributing to Subplot.ai's mission of transforming productivity through cutting-edge AI vertical agents and automation tools.\n",
       "\n",
       "During my academic career, I led projects that showcased my capability to adapt and rapidly learn new technologies, such as developing a full-stack web application and applying machine learning models to social media analysis. While I am new to UX/UI tools like v0, Lovable, or Windsurf, my proficiency with Docker and React demonstrates my ability to learn new platforms swiftly. Furthermore, my leadership role in the US Army Reserves honed my communication skills and adaptability, valuable for executing effective sales campaigns and leveraging real-world feedback in product development.\n",
       "\n",
       "I am particularly drawn to Subplot.ai’s commitment to leveraging AI for practical solutions like spreadsheet automation and AI-enhanced outreach. I am enthusiastic about the opportunity to participate in crafting AI-driven products, launching sales campaigns, and testing market strategies. I am eager to bring my fresh perspectives, technical skills, and entrepreneurial mindset to Subplot.ai's dynamic team. Thank you for considering my application. I would be thrilled to explore how my expertise can align with Subplot.ai's ambitious goals. Shall we schedule a time to discuss this exciting opportunity?\n",
       "\n",
       "Thank you,\n",
       "\n",
       "Sviatoslav Rutkovskyi"
      ],
      "text/plain": [
       "<IPython.core.display.Markdown object>"
      ]
     },
     "metadata": {},
     "output_type": "display_data"
    },
    {
     "data": {
      "text/markdown": [
       "## Feedback:\n",
       "This letter reads as a generic, AI-style draft rather than a tailored, human cover letter. It uses placeholders (e.g. “Dear [Hiring Manager’s Name]”) and even draws attention to being “new” to the very tools the role emphasizes, which weakens your candidacy. The opening, while polite, doesn’t hook the reader with a specific insight about Subplot.ai’s products or mission. You also gloss over key responsibilities (go-to-market campaigns, market testing, UX prototyping) without concrete examples of relevant work. Finally, the closing line (“Shall we schedule…?”) feels abrupt and conversational rather than professional. To improve: 1) Replace placeholders with the actual hiring manager’s name. 2) Craft a stronger hook by naming a specific Subplot.ai product or breakthrough that excites you. 3) Cite a concrete example of leading or participating in a marketing or outreach campaign (even in school or extracurriculars) to show fit for sales and product testing. 4) Emphasize your entrepreneurial mindset and rapid prototyping experience in UX/UI tools, framing your learning curve as a strength. 5) End with a concise, professional call to action (e.g. “I look forward to discussing how my skills can help Subplot.ai achieve its AI innovation goals.”). With these adjustments, your letter will feel authentic, targeted, and compelling."
      ],
      "text/plain": [
       "<IPython.core.display.Markdown object>"
      ]
     },
     "metadata": {},
     "output_type": "display_data"
    },
    {
     "name": "stdout",
     "output_type": "stream",
     "text": [
      "Failed evaluation - retrying\n"
     ]
    },
    {
     "data": {
      "text/markdown": [
       "## Cover Letter:\n",
       "[Today's Date]\n",
       "\n",
       "Subplot.ai\n",
       "New York City\n",
       "\n",
       "Dear [Hiring Manager's Name],\n",
       "\n",
       "When I first learned about Subplot.ai's cutting-edge innovations in AI vertical agents and your entrepreneurial spirit, I was eager to apply for the AI Go-to-Market Innovator Internship for Summer 2025. As a recent Computer Science graduate from the University of Washington Tacoma with a strong foundation in project leadership and a knack for rapid learning, I am thrilled about the opportunity to contribute to your mission of transforming productivity through AI-driven solutions.\n",
       "\n",
       "During my academic tenure, I led a team in developing a full-stack web application and crafted machine learning models for social media data analysis, experiences that honed my adaptability and problem-solving skills. Although I am new to tools like v0, Lovable, or Windsurf, my experience with Docker and React has equipped me with the ability to swiftly master new technologies, ensuring effective engagement with UX/UI prototypes. Moreover, my role as a Sergeant in the US Army Reserves instilled strong leadership and communication abilities, critical when launching AI-enhanced sales campaigns and iterating on strategies based on feedback.\n",
       "\n",
       "I am particularly drawn to Subplot.ai's dedication to blending AI innovation with practical applications like spreadsheet automation and targeted market testing. The opportunity to design AI-driven products and spearhead go-to-market campaigns aligns perfectly with my career aspirations. I am eager to bring my technical skills, entrepreneurial mindset, and fresh perspectives to your dynamic team. Thank you for considering my application. I am looking forward to discussing how my expertise can contribute to Subplot.ai’s ambitious goals in AI-powered market transformation.\n",
       "\n",
       "Thank you,\n",
       "\n",
       "Sviatoslav Rutkovskyi"
      ],
      "text/plain": [
       "<IPython.core.display.Markdown object>"
      ]
     },
     "metadata": {},
     "output_type": "display_data"
    },
    {
     "data": {
      "text/markdown": [
       "## Feedback:\n",
       "This draft is well-formatted and touches on relevant skills, but it reads like a generic, AI-generated letter rather than your authentic voice. The opening is polite but not especially engaging or specific—try referencing a particular Subplot.ai product or challenge to grab attention. In the body, you mention that you haven’t used v0, Lovable, or Windsurf; instead, highlight concrete examples of rapid tool adoption from your projects or coursework (e.g. ‘‘In my React/Docker project, I learned a new UI library in under a week’’). Tie your Army leadership and academic experiences directly to go-to-market and sales responsibilities—perhaps describe an outreach or presentation you led and its impact. Wherever possible, quantify results (e.g. ‘‘increased prototype user testing by 30%’’). Include the hiring manager’s name if you can, and close with a brief call to action (e.g. ‘‘I would welcome the opportunity to discuss how my background can help Subplot.ai achieve X’’). Finally, rewrite the letter in your own words to ensure it feels genuine and avoids an AI-generated tone."
      ],
      "text/plain": [
       "<IPython.core.display.Markdown object>"
      ]
     },
     "metadata": {},
     "output_type": "display_data"
    },
    {
     "name": "stdout",
     "output_type": "stream",
     "text": [
      "Failed evaluation - retrying\n"
     ]
    },
    {
     "data": {
      "text/markdown": [
       "## Cover Letter:\n",
       "[Today's Date]\n",
       "\n",
       "Subplot.ai\n",
       "New York City\n",
       "\n",
       "Dear Hiring Manager,\n",
       "\n",
       "When I discovered Subplot.ai's AI Vertical Agents and their transformative potential in enhancing productivity, I was immediately drawn to the AI Go-to-Market Innovator Internship for Summer 2025. As a recent Computer Science graduate from the University of Washington Tacoma with a 3.9 GPA, and a passion for AI and entrepreneurship, I am eager to contribute to your mission of automating operations through innovative AI solutions.\n",
       "\n",
       "During my academic career, I led projects like developing a full-stack web application and creating machine learning models, which honed my ability to adapt quickly to new technologies. My experience with Docker and React exemplifies my capability to rapidly learn and master new tools. These skills, combined with my leadership role in the US Army Reserves, where I enhanced my problem-solving and communication abilities, prepare me well for executing effective sales campaigns and leveraging real-world feedback to refine products. Although I am new to UX/UI tools like v0, Lovable, or Windsurf, my quick learning ability and enthusiasm position me to effectively engage with these cutting-edge platforms.\n",
       "\n",
       "I am particularly excited about the prospect of crafting AI-driven products, spearheading AI-enhanced marketing campaigns, and testing market strategies. Subplot.ai’s commitment to leveraging AI for practical business solutions resonates with my career aspirations, and I am eager to bring my technical skills, entrepreneurial mindset, and fresh perspective to your dynamic team. I would welcome the opportunity to discuss how my background and skills can contribute to Subplot.ai's ambitious goals in transforming operational productivity.\n",
       "\n",
       "Thank you,\n",
       "\n",
       "Sviatoslav Rutkovskyi"
      ],
      "text/plain": [
       "<IPython.core.display.Markdown object>"
      ]
     },
     "metadata": {},
     "output_type": "display_data"
    },
    {
     "data": {
      "text/markdown": [
       "## Feedback:\n",
       "This cover letter is professional and well-structured, but it reads very much like a generic, AI-generated template and doesn’t convincingly demonstrate why you’re uniquely suited to Subplot.ai’s AI Go-to-Market Innovator role. To improve: \n",
       "\n",
       "• Personalize the opening. Instead of leading with broad statements, reference a specific Subplot.ai project (e.g. your interest in building outbound campaigns with AI-enhanced tools) or mention an insight you have about their product. \n",
       "\n",
       "• Show concrete, directly relevant experience. You note your ability to learn Docker and React quickly, but the internship is focused on prototyping UX/UI and running sales campaigns. Cite any small side project, contest, or coursework where you tried A/B testing, pitched a product, or designed a user interface—even if informal. \n",
       "\n",
       "• Address key responsibilities in your body paragraph: “I led an email outreach pilot in my AI class, iterated on messaging based on open rates, and increased engagement by 20%.” Or: “In our programming contest, I rapidly prototyped a user-facing dashboard using React.” \n",
       "\n",
       "• Demonstrate familiarity or genuine eagerness with the specific generative UX tools (v0, Lovable, Windsurf). A simple statement of intent (“I’ve started exploring Windsurf’s tutorials and plan to leverage my JavaScript background to master these platforms swiftly”) shows you’re not blank. \n",
       "\n",
       "• Strengthen the closing by explicitly requesting next steps (“I’d welcome the chance to discuss how I can help Subplot.ai prototype and market new AI agents this summer”). \n",
       "\n",
       "Finally, add a sentence or two that reflects your entrepreneurial mindset—perhaps referencing your role leading teams in Home Depot or the Army as analogous to a startup environment. Tailoring these details will make your letter feel authentic and stand out."
      ],
      "text/plain": [
       "<IPython.core.display.Markdown object>"
      ]
     },
     "metadata": {},
     "output_type": "display_data"
    },
    {
     "name": "stdout",
     "output_type": "stream",
     "text": [
      "Failed evaluation - retrying\n"
     ]
    },
    {
     "data": {
      "text/markdown": [
       "## Cover Letter:\n",
       "[Today's Date]\n",
       "\n",
       "Subplot.ai\n",
       "New York City\n",
       "\n",
       "Dear [Hiring Manager's Name],\n",
       "\n",
       "When I discovered Subplot.ai's groundbreaking work with AI Vertical Agents and your dedication to transforming operational productivity, I was inspired to apply for the AI Go-to-Market Innovator Internship for Summer 2025. As a recent Computer Science graduate from the University of Washington Tacoma, I am driven by my passion for AI and my entrepreneurial spirit. I am eager to contribute to your explorative work in AI-driven productivity solutions.\n",
       "\n",
       "My academic career equipped me with the technical and collaborative skills necessary for this role—demonstrated through projects like developing a full-stack web app and creating machine learning models, which honed my ability to rapidly adopt new technologies. While I am new to UX/UI tools such as v0, Lovable, or Windsurf, my experience with Docker and React has proven my capacity to master new platforms quickly. Further, my leadership experience as a Sergeant in the US Army Reserves has solidified my problem-solving and communication skills. These are crucial as I embark on creating and refining effective AI-driven products and executing sales campaigns using AI-enhanced strategies.\n",
       "\n",
       "Subplot.ai's commitment to innovative AI solutions and market strategy alignment excites me. I am particularly enthused about the opportunity to work with generative AI tools to prototype products and orchestrate impactful marketing campaigns. I look forward to discussing how my background and enthusiasm can contribute to Subplot.ai's ambitious goals in AI-powered market transformation. Thank you for considering my application.\n",
       "\n",
       "Sincerely,\n",
       "\n",
       "Sviatoslav Rutkovskyi"
      ],
      "text/plain": [
       "<IPython.core.display.Markdown object>"
      ]
     },
     "metadata": {},
     "output_type": "display_data"
    },
    {
     "data": {
      "text/markdown": [
       "## Feedback:\n",
       "The cover letter is polite and correctly formatted, but it feels generic and only loosely tailored to the AI Go-to-Market Innovator role. It doesn’t demonstrate hands-on experience or passion for key responsibilities such as launching outbound campaigns, prototyping with tools like v0/Lovable/Windsurf, or analyzing market feedback. Your opening is cordial but not compelling—name the hiring manager, succinctly state why you’re uniquely drawn to Subplot.ai’s mission, and highlight your most relevant selling point in the first two sentences. In the body, replace broad statements about “passion” and “rapid adoption” with concrete examples: describe a time you led a marketing or outreach effort (even a student group or project demo) or quickly learned a new design tool. Show how your Army Reserve leadership translates into the iterative, data-driven experimentation Subplot.ai calls for. Finally, close by tying your entrepreneurial goals directly to Subplot.ai’s objectives and requesting a specific follow-up (e.g., a call or interview). Personalize each paragraph with details only you could provide—this will distinguish your letter from an AI-generated template and better align your experience with the internship’s go-to-market focus."
      ],
      "text/plain": [
       "<IPython.core.display.Markdown object>"
      ]
     },
     "metadata": {},
     "output_type": "display_data"
    },
    {
     "name": "stdout",
     "output_type": "stream",
     "text": [
      "Failed evaluation - returning reply\n"
     ]
    }
   ],
   "source": [
    "gr.ChatInterface(requestLetter, type=\"messages\").launch()"
   ]
  },
  {
   "cell_type": "code",
   "execution_count": null,
   "metadata": {},
   "outputs": [],
   "source": []
  }
 ],
 "metadata": {
  "kernelspec": {
   "display_name": ".venv",
   "language": "python",
   "name": "python3"
  },
  "language_info": {
   "codemirror_mode": {
    "name": "ipython",
    "version": 3
   },
   "file_extension": ".py",
   "mimetype": "text/x-python",
   "name": "python",
   "nbconvert_exporter": "python",
   "pygments_lexer": "ipython3",
   "version": "3.12.1"
  }
 },
 "nbformat": 4,
 "nbformat_minor": 2
}
