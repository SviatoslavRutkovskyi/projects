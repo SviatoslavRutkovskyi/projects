{
 "cells": [
  {
   "cell_type": "markdown",
   "metadata": {},
   "source": [
    "This is a cover letter builder using agentic ai\n"
   ]
  },
  {
   "cell_type": "code",
   "execution_count": 39,
   "metadata": {},
   "outputs": [],
   "source": [
    "#imports\n",
    "\n",
    "from dotenv import load_dotenv\n",
    "from openai import OpenAI\n",
    "from pypdf import PdfReader\n",
    "import gradio as gr\n",
    "from pydantic import BaseModel\n",
    "import requests\n",
    "from bs4 import BeautifulSoup\n",
    "from IPython.display import Markdown, display"
   ]
  },
  {
   "cell_type": "code",
   "execution_count": 40,
   "metadata": {},
   "outputs": [
    {
     "data": {
      "text/plain": [
       "True"
      ]
     },
     "execution_count": 40,
     "metadata": {},
     "output_type": "execute_result"
    }
   ],
   "source": [
    "load_dotenv(override=True)\n"
   ]
  },
  {
   "cell_type": "code",
   "execution_count": 41,
   "metadata": {},
   "outputs": [],
   "source": [
    "openai = OpenAI()"
   ]
  },
  {
   "cell_type": "code",
   "execution_count": 42,
   "metadata": {},
   "outputs": [],
   "source": [
    "creator_model = \"gpt-4o\"\n",
    "evaluator_model = \"o4-mini\""
   ]
  },
  {
   "cell_type": "code",
   "execution_count": 43,
   "metadata": {},
   "outputs": [],
   "source": [
    "with open(\"../about/summary.txt\", \"r\", encoding=\"utf-8\") as f:\n",
    "    summary = f.read()\n",
    "\n",
    "with open(\"../about/cover_letter_template.txt\", \"r\", encoding=\"utf-8\") as f:\n",
    "    cover_letter_template = f.read()\n",
    "    "
   ]
  },
  {
   "cell_type": "code",
   "execution_count": 44,
   "metadata": {},
   "outputs": [],
   "source": [
    "reader = PdfReader(\"../about/resume.pdf\")\n",
    "resume = \"\"\n",
    "for page in reader.pages:\n",
    "    text = page.extract_text()\n",
    "    if text:\n",
    "        resume += text"
   ]
  },
  {
   "cell_type": "code",
   "execution_count": 45,
   "metadata": {},
   "outputs": [],
   "source": [
    "name = \"Charles McTurland\"\n"
   ]
  },
  {
   "cell_type": "code",
   "execution_count": 46,
   "metadata": {},
   "outputs": [],
   "source": [
    "system_prompt = f\"\"\"You are a proffesional cover letter writer, and your job is to write a cover letter for {name}, highlighting {name}'s skills, experience, and achievements. \n",
    "particularly questions related to {name}'s career, background, skills and experience. \n",
    "Your responsibility is to represent {name} in the letter as faithfully as possible. \n",
    "You are given a summary of {name}'s background and Resume which you can use in the cover letter. \n",
    "You are given an example of a cover letter from {name}. Try and use a similar language and style. Do NOT include the placeholder information in the cover letter. \n",
    "Be professional and engaging, uing the tone and style suitable for a cover letter.\n",
    "Do not make up any information, and only use the information provided.\n",
    "Don't be too verbose, and use a 3 paragraph format.\n",
    "Respond with a cover letter and nothing else.\n",
    "Do not include the address or contact information. \n",
    "You will be given a job description, and you will need to tailor the cover letter to the job description.\n",
    "You will be evaluated, and if evalutor decides that your cover letter is not up to standart, you will be given your previus cover letters and feedback on them. \n",
    "You have to listen to the feedback, and improve your cover letter accordingly to the feedback.\n",
    "\\n\\n## Summary:\\n{summary}\\n\\n## Resume:\\n{resume}\\n\\n ## Cover Letter Template:\\n{cover_letter_template}\\n\\n\n",
    "\"\"\"\n",
    "\n"
   ]
  },
  {
   "cell_type": "code",
   "execution_count": 47,
   "metadata": {},
   "outputs": [],
   "source": [
    "\n",
    "updated_system_prompt = system_prompt"
   ]
  },
  {
   "cell_type": "code",
   "execution_count": 48,
   "metadata": {},
   "outputs": [],
   "source": [
    "evaluator_system_prompt = f\"\"\"\n",
    "You are a professional evaluator that decides whether a cover letter is acceptable. \n",
    "You are provided with {name}'s summary and resume, an example of a cover letter from {name}, the job description, and the cover letter. \n",
    "Your task is to evaluate the cover letter, and reply with whether it is acceptable and your feedback. \n",
    "You need to ensure if the cover letter is professional, engaging, and tailored to the job description. \n",
    "You need to ensure if the cover letter was likely made by AI, and if it was made by AI, deny it, and provide feedback. Do not allow AI generated cover letters.\n",
    "You need to ensure that the cover letter has a strong and engaging opening paragraph. \n",
    "You need to ensure that the cover letter is concise and uses the standard 3 paragraph format.\n",
    "Here's the information:\n",
    "\\n\\n## Summary:\\n{summary}\\n\\n## Resume:\\n{resume}\\n\\n## Cover Letter Template:\\n{cover_letter_template}\\n\\n\n",
    "With this context, please evaluate the cover letter, replying with whether the cover letter is acceptable and your feedback.\n",
    "\"\"\""
   ]
  },
  {
   "cell_type": "code",
   "execution_count": 49,
   "metadata": {},
   "outputs": [],
   "source": [
    "class Evaluation(BaseModel):\n",
    "    is_acceptable: bool\n",
    "    feedback: str"
   ]
  },
  {
   "cell_type": "code",
   "execution_count": 50,
   "metadata": {},
   "outputs": [],
   "source": [
    "def evaluator_cover_letter(job_post, cover_letter):\n",
    "    return f\"\"\"\n",
    "    Here's the job posting presented by the user: \\n\\n{job_post}\\n\\n\n",
    "    Here's the cover letter generated by the agent: \\n\\n{cover_letter}\\n\\n\n",
    "    Please evaluate the response, replying with whether it is acceptable and your extensive feedback.\n",
    "    \"\"\""
   ]
  },
  {
   "cell_type": "code",
   "execution_count": 51,
   "metadata": {},
   "outputs": [],
   "source": [
    "def update_system_prompt(cover_letter, feedback):\n",
    "        global updated_system_prompt\n",
    "        updated_system_prompt = updated_system_prompt + f\"\"\"\n",
    "        \\n\\n## Previous cover letter rejected\\nYou just tried to create a cover letter, but the quality control rejected your cover letter\\n\n",
    "        ## Your attempted cover letter:\\n{cover_letter}\\n\\n\n",
    "        ## Reason for rejection:\\n{feedback}\\n\\n\n",
    "        \"\"\"\n",
    "        return updated_system_prompt;"
   ]
  },
  {
   "cell_type": "code",
   "execution_count": 52,
   "metadata": {},
   "outputs": [],
   "source": [
    "def evaluate(job_post, cover_letter) -> Evaluation:\n",
    "    messages = [\n",
    "        {\"role\": \"system\", \"content\": evaluator_system_prompt},\n",
    "        {\"role\": \"user\", \"content\": evaluator_cover_letter(job_post, cover_letter)},\n",
    "        {\"role\": \"user\", \"content\": \"Reply ONLY in valid JSON: {\\\"is_acceptable\\\": true/false, \\\"feedback\\\": \\\"...\\\"}\"}\n",
    "    ]\n",
    "    response = openai.responses.parse(\n",
    "        model=evaluator_model,\n",
    "        reasoning = {\"effort\":\"high\"},\n",
    "        input=messages,\n",
    "        text_format = Evaluation,\n",
    "        )\n",
    "    return response.output_parsed"
   ]
  },
  {
   "cell_type": "code",
   "execution_count": 53,
   "metadata": {},
   "outputs": [],
   "source": [
    "def run(prompt, job_posting):\n",
    "    messages = [{\"role\": \"system\", \"content\": prompt}] + [{\"role\": \"user\", \"content\": job_posting}]\n",
    "    response = openai.chat.completions.create(model=creator_model, messages=messages)\n",
    "    return response.choices[0].message.content"
   ]
  },
  {
   "cell_type": "code",
   "execution_count": 54,
   "metadata": {},
   "outputs": [],
   "source": [
    "\n",
    "def scrape_webpage_simple(url):\n",
    "    try:\n",
    "        # Set headers to mimic a real browser\n",
    "        headers = {\n",
    "            'User-Agent': 'Mozilla/5.0'\n",
    "        }\n",
    "        \n",
    "        # Make the request\n",
    "        response = requests.get(url, headers=headers, timeout=10)\n",
    "        response.raise_for_status()  # Raise an error for bad status codes\n",
    "        \n",
    "        # Parse the HTML\n",
    "        soup = BeautifulSoup(response.content, 'html.parser')\n",
    "\n",
    "        # Get all text content\n",
    "        return soup.get_text()\n",
    "        \n",
    "        \n",
    "    except requests.RequestException:\n",
    "        return 'error'\n",
    "    except Exception:\n",
    "        return 'error'\n"
   ]
  },
  {
   "cell_type": "code",
   "execution_count": 55,
   "metadata": {},
   "outputs": [],
   "source": [
    "def requestLetter(job_posting, history):\n",
    "    global updated_system_prompt\n",
    "    page = scrape_webpage_simple(job_posting)\n",
    "    print(page)\n",
    "    if page == 'error':\n",
    "        print(\"Failed to scrape job posting\")\n",
    "    else:\n",
    "        job_posting = page\n",
    "\n",
    "    cover_letter = run(system_prompt, job_posting)\n",
    "\n",
    "    eval_counter = 0\n",
    "    while eval_counter < 10:\n",
    "        evaluation = evaluate(job_posting, cover_letter)\n",
    "        if evaluation.is_acceptable:\n",
    "            print(\"Passed evaluation - returning reply\")\n",
    "            display(Markdown(f\"## Cover Letter:\\n{cover_letter}\"));\n",
    "            display(Markdown(f\"## Feedback:\\n{evaluation.feedback}\"))\n",
    "            display(Markdown(f\"## Updated system prompt:\\n{updated_system_prompt}\"))\n",
    "            updated_system_prompt = system_prompt;\n",
    "            return cover_letter\n",
    "        else:\n",
    "            eval_counter += 1\n",
    "            print(\"Failed evaluation - retrying\")\n",
    "            display(Markdown(f\"## Cover Letter:\\n{cover_letter}\"))\n",
    "            display(Markdown(f\"## Feedback:\\n{evaluation.feedback}\"))\n",
    "            cover_letter = run(update_system_prompt(cover_letter, evaluation.feedback), job_posting)\n",
    "    print(\"Failed evaluation - returning reply\")\n",
    "    return \"Unable to generate cover letter\" +\"\\n\" + evaluation.feedback    \n",
    "    "
   ]
  },
  {
   "cell_type": "code",
   "execution_count": 56,
   "metadata": {},
   "outputs": [
    {
     "name": "stdout",
     "output_type": "stream",
     "text": [
      "* Running on local URL:  http://127.0.0.1:7862\n",
      "* To create a public link, set `share=True` in `launch()`.\n"
     ]
    },
    {
     "data": {
      "text/html": [
       "<div><iframe src=\"http://127.0.0.1:7862/\" width=\"100%\" height=\"500\" allow=\"autoplay; camera; microphone; clipboard-read; clipboard-write;\" frameborder=\"0\" allowfullscreen></iframe></div>"
      ],
      "text/plain": [
       "<IPython.core.display.HTML object>"
      ]
     },
     "metadata": {},
     "output_type": "display_data"
    },
    {
     "data": {
      "text/plain": []
     },
     "execution_count": 56,
     "metadata": {},
     "output_type": "execute_result"
    },
    {
     "name": "stdout",
     "output_type": "stream",
     "text": [
      "error\n",
      "Failed to scrape job posting\n",
      "Failed evaluation - retrying\n"
     ]
    },
    {
     "data": {
      "text/markdown": [
       "## Cover Letter:\n",
       "Dear Hiring Manager,\n",
       "\n",
       "I am thrilled to submit my application for the Software Engineer position at Pioneer Square Labs (PSL). As a seasoned software engineer with a decade of experience building cutting-edge, data-driven applications, I am eager to bring my skills and innovative mindset to your dynamic, fast-paced team. The opportunity to engage with early-stage founders and contribute to a pioneering startup studio excites me, as it aligns well with my passion for bolstering startup ecosystems and my experience in building scalable solutions.\n",
       "\n",
       "At Embark, I played a pivotal role in transforming a legacy application into a high-performing single-page app, directly contributing to a $1.4M revenue increase. My extensive experience in Python and JavaScript, coupled with my capability to work autonomously and collaboratively with cross-functional teams, empowers me to thrive in environments where I can swiftly iterate and adapt to evolving technical landscapes—qualities that I understand are highly valued at PSL. Whether it's prototyping new ideas, setting the technical foundation for a startup's success, or mentoring fellow engineers, I approach each challenge with energy, thoughtfulness, and a customer-centric mindset.\n",
       "\n",
       "Beyond my professional endeavors, I actively engage in projects like developing a poker simulation app, illustrating my curiosity and dedication to exploring the intersection of software engineering and data science. I am enthusiastic about the potential to partner with your talented entrepreneurs and drive forward-thinking solutions using cutting-edge technologies.\n",
       "\n",
       "I am eager to discuss how my experience and skills can drive success at PSL. Thank you for considering my application; I look forward to the possibility of contributing to your team and the innovative work at Pioneer Square Labs.\n",
       "\n",
       "Sincerely,\n",
       "Charles McTurland"
      ],
      "text/plain": [
       "<IPython.core.display.Markdown object>"
      ]
     },
     "metadata": {},
     "output_type": "display_data"
    },
    {
     "data": {
      "text/markdown": [
       "## Feedback:\n",
       "This letter is well-written but feels templated and likely AI-generated rather than your authentic voice. It also doesn’t follow the three-paragraph structure (it uses two body paragraphs and a separate closing). To improve:\n",
       "\n",
       "1. Strong, tailored opening (1 paragraph):  Lead with why PSL’s systematic approach to validating startup ideas excites you, perhaps referencing a specific PSL spinout or your own rapid-prototype experience with AI models.\n",
       "2. Focused body (1 paragraph):  Combine your Embark achievement and poker simulator into a single concise paragraph that directly ties your prototyping, MVP development, and cross-functional collaboration to PSL’s needs (e.g. rapid de-risking, AI exploration, infrastructure setup).\n",
       "3. Concise closing (1 paragraph):  Reiterate your enthusiasm for early-stage ventures, call out how you’ll add value as a high-autonomy generalist, and include a clear call to action.\n",
       "\n",
       "By tightening the format, using PSL-specific language (e.g. “ruthless validation,” “seed-stage de-risking,” “LLM evaluation suites”), and injecting personal anecdotes, your letter will feel more genuine, memorable, and aligned with the role."
      ],
      "text/plain": [
       "<IPython.core.display.Markdown object>"
      ]
     },
     "metadata": {},
     "output_type": "display_data"
    },
    {
     "name": "stdout",
     "output_type": "stream",
     "text": [
      "Failed evaluation - retrying\n"
     ]
    },
    {
     "data": {
      "text/markdown": [
       "## Cover Letter:\n",
       "Dear Hiring Manager,\n",
       "\n",
       "I am eager to express my interest in the Full Stack Engineer Co-Op Internship at Stably, a company renowned for its pioneering stablecoin platform and trailblazing efforts in the financial technology sector. The opportunity to contribute to Stably’s mission resonates deeply with my passion for integrating innovative technology into finance to create efficient, transformative solutions.\n",
       "\n",
       "My experience at Embark equipped me with a robust foundation in enhancing application performance and achieving scalability, notably when I transformed a legacy web application into a single-page app, boosting revenue significantly. I am particularly drawn to the challenges involved in optimizing Stably’s products, such as sUSD and cross-chain payments. My expertise in Python (Django), JavaScript (React/Node.js), and AWS aligns seamlessly with the technologies mentioned in the internship description, and I am eager to apply these skills to support Stably's initiatives.\n",
       "\n",
       "While I look forward to the opportunity to deepen my technical acumen in real-time financial systems and blockchain technologies, I am equally enthusiastic about growing within a collaborative environment. A recent personal project, where I developed a poker simulation app, underscores my continuous pursuit of learning and innovation. I am excited to contribute to your team by offering fresh insights and actively engaging in projects that further Stably’s vision.\n",
       "\n",
       "Thank you for considering my application. I look forward to discussing how I can contribute to Stably’s objectives and assist in advancing your groundbreaking work during my internship.\n",
       "\n",
       "Sincerely,\n",
       "Charles McTurland"
      ],
      "text/plain": [
       "<IPython.core.display.Markdown object>"
      ]
     },
     "metadata": {},
     "output_type": "display_data"
    },
    {
     "data": {
      "text/markdown": [
       "## Feedback:\n",
       "The letter demonstrates you’ve read about Stably and highlights relevant technologies, but it feels generic and formulaic (e.g. “pioneering stablecoin platform,” “resonates deeply”), suggesting AI generation rather than your authentic voice. It also uses a four-paragraph structure instead of the recommended three: an engaging intro, a single body that quantifies your impact and ties directly to Stably’s needs, and a concise closing. To improve:\n",
       "\n",
       "1. Rewrite into three paragraphs: 1) Hook with your top achievement and why Stably excites you; 2) Quantify your work at Embark (e.g. “re-architected a legacy app into an SPA, driving $1.4M in new revenue”) and map those skills (Python/Django, React/Node, AWS) to challenges like sUSD and cross-chain payments; 3) Short closing expressing enthusiasm and next steps.  \n",
       "2. Use concrete metrics and drop marketing buzzwords—speak in your own voice.  \n",
       "3. Emphasize what you will deliver at Stably, not just what you want to learn.  \n",
       "\n",
       "This will produce a more concise, human, and tailored letter that meets the three-paragraph standard."
      ],
      "text/plain": [
       "<IPython.core.display.Markdown object>"
      ]
     },
     "metadata": {},
     "output_type": "display_data"
    },
    {
     "name": "stdout",
     "output_type": "stream",
     "text": [
      "Failed evaluation - retrying\n"
     ]
    },
    {
     "data": {
      "text/markdown": [
       "## Cover Letter:\n",
       "Dear Hiring Manager,\n",
       "\n",
       "I am writing to express my interest in the Generalist Software Engineer position at PSL, excited by the opportunity to work with an innovative team that supports and accelerates the journey of talented founders. With over a decade of experience in building scalable web applications and a strong foundation in both Python and JavaScript, I am eager to contribute to a startup studio that is committed to validating and launching transformative ideas.\n",
       "\n",
       "Throughout my tenure at Embark, I honed my ability to work collaboratively across disciplines, re-architecting a multi-page web application into a high-performing single-page app, resulting in a $1.4M increase in annual revenue. My work at MarketSmart further refined my skills in developing RESTful APIs and scalable systems, managing simultaneous processes for over 500,000 users. The dynamic and fast-paced environment at PSL aligns well with my experience, characterized by a love for building, optimizing, and leveraging technology to solve complex business challenges.\n",
       "\n",
       "My commitment to growth and learning drives me to tackle challenges with a fresh perspective, often leveraging the latest AI models for innovation. The opportunity at PSL to be involved from ideation to market launch resonates with my passion for startups and my affinity for roles that require adaptability and multidisciplinarity. I am eager to bring my technical skills, curiosity, and strategic problem-solving approach to PSL, contributing to the successful validation and scaling of new ventures.\n",
       "\n",
       "Thank you for considering my application. I look forward to the possibility of discussing how my background and abilities align with the needs of your team at PSL.\n",
       "\n",
       "Sincerely,  \n",
       "Charles McTurland  "
      ],
      "text/plain": [
       "<IPython.core.display.Markdown object>"
      ]
     },
     "metadata": {},
     "output_type": "display_data"
    },
    {
     "data": {
      "text/markdown": [
       "## Feedback:\n",
       "This letter is polite and well-written, but it falls short on three fronts: 1) Structure: you’ve ended up with four paragraphs (intro, two body sections, a separate closing) rather than the standard three-paragraph format (strong opening, focused body, concise close). 2) Tailoring: the opening is generic and doesn’t show real enthusiasm for PSL’s unique model of “ruthless” idea validation or mention the startup-studio day-to-day activities (rapid prototyping, working with seed-stage CEOs, recruiting the first 5 hires, etc.). You also don’t call out the specific tech (TypeScript, Python, cloud infrastructure) and startup skills (AI model exploration, customer interviews, tooling judgments) that the job posting highlights. 3) Voice: the language reads like a template — consider tightening it with more concrete examples (e.g. “I led a rapid AI-powered prototype in 48 hours to vet a new ad-tech concept”) and a stronger hook about why PSL’s mission excites you. To improve: merge your two experience paragraphs into one succinct body, open with a specific statement about PSL’s approach and your fit, and close with a clear call to action in a single final paragraph."
      ],
      "text/plain": [
       "<IPython.core.display.Markdown object>"
      ]
     },
     "metadata": {},
     "output_type": "display_data"
    },
    {
     "name": "stdout",
     "output_type": "stream",
     "text": [
      "Passed evaluation - returning reply\n"
     ]
    },
    {
     "data": {
      "text/markdown": [
       "## Cover Letter:\n",
       "Dear Hiring Manager,\n",
       "\n",
       "I am thrilled to submit my application for the Software Engineer position at Pioneer Square Labs (PSL). PSL’s systematic approach to ruthlessly validating startup ideas resonates deeply with me and aligns with my industry experience, where I've enjoyed rapidly prototyping concepts to turn them into scalable, high-impact applications. Having personally built a poker simulation app leveraging AI and machine learning as a creative endeavor, I'm captivated by the opportunity to explore new ideas using the latest AI models and contribute to developing the next generation of software companies.\n",
       "\n",
       "At Embark, I led the engineering team to transform a multi-page application into a streamlined and high-performing single-page app, which directly increased annual revenue by $1.4M. My role required collaborating intensively across teams, optimizing performance, and iterating quickly—all competencies I understand are vital at PSL for evaluating and launching startup ideas. Whether I’m setting the technical foundation for spinouts, de-risking projects, or engaging directly with early-stage founders, I bring a wealth of expertise in Python and JavaScript and a customer-focused mindset to drive successful product outcomes.\n",
       "\n",
       "I am particularly enthusiastic about the potential to partner with your talented entrepreneurs and use my generalist skills to contribute to PSL’s ecosystem of innovative startups. Thank you for considering my application—I look forward to the possibility of further discussing how I can add value to your dynamic team and the exciting ventures at Pioneer Square Labs.\n",
       "\n",
       "Sincerely,\n",
       "Charles McTurland"
      ],
      "text/plain": [
       "<IPython.core.display.Markdown object>"
      ]
     },
     "metadata": {},
     "output_type": "display_data"
    },
    {
     "data": {
      "text/markdown": [
       "## Feedback:\n",
       "This is a solid, professional three‐paragraph letter with a concise, engaging opening that clearly ties your background to PSL’s mission. You’ve highlighted a relevant personal project (your poker simulation app) and key accomplishments at Embark, and you’ve shown genuine enthusiasm for rapid prototyping and AI. To make it even stronger, you could: \n",
       "\n",
       "• Echo more of PSL’s specific responsibilities—mention your experience interviewing/recruiting, evaluating third-party services, and de-risking product ideas with customer research.  \n",
       "• Demonstrate your comfort in fast-changing, uncertain environments by giving a brief example of how you’ve thrived under ambiguity or tight deadlines.  \n",
       "• Cite your proactive community engagement or thought leadership (e.g. mentoring junior engineers or writing technical content).  \n",
       "\n",
       "Adding one or two sentences to address these points will more fully align your letter with the full scope of the role and show you’re ready to wear all the hats PSL needs."
      ],
      "text/plain": [
       "<IPython.core.display.Markdown object>"
      ]
     },
     "metadata": {},
     "output_type": "display_data"
    },
    {
     "data": {
      "text/markdown": [
       "## Updated system prompt:\n",
       "You are a proffesional cover letter writer, and your job is to write a cover letter for Charles McTurland, highlighting Charles McTurland's skills, experience, and achievements. \n",
       "particularly questions related to Charles McTurland's career, background, skills and experience. \n",
       "Your responsibility is to represent Charles McTurland in the letter as faithfully as possible. \n",
       "You are given a summary of Charles McTurland's background and Resume which you can use in the cover letter. \n",
       "You are given an example of a cover letter from Charles McTurland. Try and use a similar language and style. Do NOT include the placeholder information in the cover letter. \n",
       "Be professional and engaging, uing the tone and style suitable for a cover letter.\n",
       "Do not make up any information, and only use the information provided.\n",
       "Don't be too verbose, and use a 3 paragraph format.\n",
       "Respond with a cover letter and nothing else.\n",
       "Do not include the address or contact information. \n",
       "You will be given a job description, and you will need to tailor the cover letter to the job description.\n",
       "You will be evaluated, and if evalutor decides that your cover letter is not up to standart, you will be given your previus cover letters and feedback on them. \n",
       "You have to listen to the feedback, and improve your cover letter accordingly to the feedback.\n",
       "\n",
       "\n",
       "## Summary:\n",
       "As a passionate and experienced software engineer based in New York City, I’ve spent over a decade building scalable, high-impact web applications that improve user experience and drive business results. After earning my B.S. in Computer Science from the University of Pittsburgh, I began my career at MarketSmart, where I dove deep into API development and automation. Since 2015, I’ve been part of the engineering team at Embark, where I’ve helped lead the transformation of a legacy web application into a high-performing single-page app—contributing directly to a $1.4M annual revenue boost.\n",
       "\n",
       "I thrive in collaborative environments and enjoy working closely with product managers, designers, and fellow engineers to build intuitive, responsive, and reliable systems. Whether I’m optimizing performance for 35M+ users, designing internal tools, or mentoring junior engineers, I bring a strong sense of ownership and a love for clean, maintainable code.\n",
       "\n",
       "My technical toolkit includes Python (Django), JavaScript (React, Node.js), SQL/NoSQL databases, and cloud infrastructure with AWS. I’m always looking to deepen my knowledge and stay sharp—recently, I even built a poker simulation app combining machine learning and real-time visualizations, just for fun.\n",
       "\n",
       "For me, software engineering is as much about creativity and problem-solving as it is about code—and I’m excited to keep building things that make a difference.\n",
       "\n",
       "\n",
       "## Resume:\n",
       "CHARLES MCTURLAND\n",
       "SOFTWARE ENGINEER\n",
       "CONTACT\n",
       "cmcturland@email.com\n",
       "(123) 456-7890\n",
       "New York, NY\n",
       "LinkedIn\n",
       "EDUCATION\n",
       "B.S.\n",
       "Computer Science\n",
       "University of Pittsburgh\n",
       "September 2008 - April 2012\n",
       "Pittsburgh, PA\n",
       "SKILLS\n",
       "Python (Django)\n",
       "Javascript (NodeJS ReactJS,\n",
       "jQuery)\n",
       "SQL (MySQL, PostgreSQL,\n",
       "NoSQL)\n",
       "HTML5/CSS\n",
       "AWS\n",
       "Unix, Git\n",
       "WORK EXPERIENCE\n",
       "Software Engineer\n",
       "Embark\n",
       "January 2015 - current / New York, NY\n",
       "Worked with product managers to re-architect a multi-page web\n",
       "app into a single page web-app, boosting yearly revenue by $1.4M\n",
       "Constructed the logic for a streamlined ad-serving platform that\n",
       "scaled to our 35M users, which improved the page speed by 15%\n",
       "after implementation\n",
       "Tested software for bugs and operating speed, ﬁxing bugs and\n",
       "documenting processes to increase efﬁciency by 18%\n",
       "Iterated platform for college admissions, collaborating with a group\n",
       "of 4 engineers to create features across the software\n",
       "Software Engineer\n",
       "MarketSmart\n",
       "April 2012 - January 2015 / Washington, DC\n",
       "Built RESTful APIs that served data to the JavaScript front-end\n",
       "based on dynamically chosen user inputs that handled over 500,000\n",
       "concurrent users\n",
       "Built internal tool using NodeJS and Pupeteer.js to automate QA and\n",
       "monitoring of donor-facing web app, which improved CTR by 3%\n",
       "Reviewed code and conducted testing for 3 additional features on\n",
       "donor-facing web app that increased contributions by 12%\n",
       "Software Engineer Intern\n",
       "Marketing Science Company\n",
       "April 2011 - March 2012 / Pittsburgh, PA\n",
       "Partnered with a developer to implement RESTful APIs in Django,\n",
       "enabling analytics team to increase reporting speed by 24%\n",
       "Using Selenium I built out a unit testing infrastructure for a client\n",
       "application that reduced the number of bugs reported by the client\n",
       "by 11% month over month\n",
       "PROJECTS\n",
       "Poker Simulation\n",
       "Built a full-stack web app to allow users to simulate and visualize\n",
       "outcomes of poker hands against opponents of different play styles\n",
       "using open source cards.js on the front-end\n",
       "Utilized sci-kit learn in Python to simulate possible outcomes under\n",
       "different scenarios that the user chose\n",
       "\n",
       " ## Cover Letter Template:\n",
       "Dear Hiring Manager,\n",
       "\n",
       "As a seasoned software engineer with over a decade of experience building scalable, data-driven applications, I’m excited to apply for a software engineering position at Microsoft. The opportunity to contribute to a company known for its innovation and impact aligns perfectly with my passion for solving complex technical challenges at scale.\n",
       "\n",
       "At Embark, where I’ve been part of the engineering team since 2015, I helped re-architect a multi-page application into a high-performing single-page app, directly boosting annual revenue by $1.4M. I’ve also built an ad-serving platform that scaled to 35 million users, increasing page speed by 15%. These projects were driven by my focus on thoughtful architecture, collaboration across teams, and clean, efficient code.\n",
       "\n",
       "I bring to the table deep experience in Python (Django), JavaScript (React/Node), and cloud technologies like AWS, along with a strong foundation in databases and RESTful API design. I thrive in environments where I can iterate quickly, partner with cross-functional teams, and constantly improve systems to meet real-world needs—values I know Microsoft shares.\n",
       "\n",
       "Outside of my professional work, I enjoy exploring projects that combine data science and web development, including a poker simulation app I built using Sci-Kit Learn and Cards.js. I’m always looking to grow and explore new tools, frameworks, and ways to make software more intuitive and impactful.\n",
       "\n",
       "I would be thrilled to bring my experience, energy, and curiosity to Microsoft, and I welcome the opportunity to discuss how I can contribute to your engineering team. Thank you for considering my application—I look forward to connecting soon.\n",
       "\n",
       "Sincerely,\n",
       "Charles McTurland\n",
       "\n",
       "\n",
       "\n",
       "        \n",
       "\n",
       "## Previous cover letter rejected\n",
       "You just tried to create a cover letter, but the quality control rejected your cover letter\n",
       "\n",
       "        ## Your attempted cover letter:\n",
       "Dear Hiring Manager,\n",
       "\n",
       "I am thrilled to submit my application for the Software Engineer position at Pioneer Square Labs (PSL). As a seasoned software engineer with a decade of experience building cutting-edge, data-driven applications, I am eager to bring my skills and innovative mindset to your dynamic, fast-paced team. The opportunity to engage with early-stage founders and contribute to a pioneering startup studio excites me, as it aligns well with my passion for bolstering startup ecosystems and my experience in building scalable solutions.\n",
       "\n",
       "At Embark, I played a pivotal role in transforming a legacy application into a high-performing single-page app, directly contributing to a $1.4M revenue increase. My extensive experience in Python and JavaScript, coupled with my capability to work autonomously and collaboratively with cross-functional teams, empowers me to thrive in environments where I can swiftly iterate and adapt to evolving technical landscapes—qualities that I understand are highly valued at PSL. Whether it's prototyping new ideas, setting the technical foundation for a startup's success, or mentoring fellow engineers, I approach each challenge with energy, thoughtfulness, and a customer-centric mindset.\n",
       "\n",
       "Beyond my professional endeavors, I actively engage in projects like developing a poker simulation app, illustrating my curiosity and dedication to exploring the intersection of software engineering and data science. I am enthusiastic about the potential to partner with your talented entrepreneurs and drive forward-thinking solutions using cutting-edge technologies.\n",
       "\n",
       "I am eager to discuss how my experience and skills can drive success at PSL. Thank you for considering my application; I look forward to the possibility of contributing to your team and the innovative work at Pioneer Square Labs.\n",
       "\n",
       "Sincerely,\n",
       "Charles McTurland\n",
       "\n",
       "\n",
       "        ## Reason for rejection:\n",
       "This letter is well-written but feels templated and likely AI-generated rather than your authentic voice. It also doesn’t follow the three-paragraph structure (it uses two body paragraphs and a separate closing). To improve:\n",
       "\n",
       "1. Strong, tailored opening (1 paragraph):  Lead with why PSL’s systematic approach to validating startup ideas excites you, perhaps referencing a specific PSL spinout or your own rapid-prototype experience with AI models.\n",
       "2. Focused body (1 paragraph):  Combine your Embark achievement and poker simulator into a single concise paragraph that directly ties your prototyping, MVP development, and cross-functional collaboration to PSL’s needs (e.g. rapid de-risking, AI exploration, infrastructure setup).\n",
       "3. Concise closing (1 paragraph):  Reiterate your enthusiasm for early-stage ventures, call out how you’ll add value as a high-autonomy generalist, and include a clear call to action.\n",
       "\n",
       "By tightening the format, using PSL-specific language (e.g. “ruthless validation,” “seed-stage de-risking,” “LLM evaluation suites”), and injecting personal anecdotes, your letter will feel more genuine, memorable, and aligned with the role.\n",
       "\n",
       "\n",
       "        \n",
       "        \n",
       "\n",
       "## Previous cover letter rejected\n",
       "You just tried to create a cover letter, but the quality control rejected your cover letter\n",
       "\n",
       "        ## Your attempted cover letter:\n",
       "Dear Hiring Manager,\n",
       "\n",
       "I am eager to express my interest in the Full Stack Engineer Co-Op Internship at Stably, a company renowned for its pioneering stablecoin platform and trailblazing efforts in the financial technology sector. The opportunity to contribute to Stably’s mission resonates deeply with my passion for integrating innovative technology into finance to create efficient, transformative solutions.\n",
       "\n",
       "My experience at Embark equipped me with a robust foundation in enhancing application performance and achieving scalability, notably when I transformed a legacy web application into a single-page app, boosting revenue significantly. I am particularly drawn to the challenges involved in optimizing Stably’s products, such as sUSD and cross-chain payments. My expertise in Python (Django), JavaScript (React/Node.js), and AWS aligns seamlessly with the technologies mentioned in the internship description, and I am eager to apply these skills to support Stably's initiatives.\n",
       "\n",
       "While I look forward to the opportunity to deepen my technical acumen in real-time financial systems and blockchain technologies, I am equally enthusiastic about growing within a collaborative environment. A recent personal project, where I developed a poker simulation app, underscores my continuous pursuit of learning and innovation. I am excited to contribute to your team by offering fresh insights and actively engaging in projects that further Stably’s vision.\n",
       "\n",
       "Thank you for considering my application. I look forward to discussing how I can contribute to Stably’s objectives and assist in advancing your groundbreaking work during my internship.\n",
       "\n",
       "Sincerely,\n",
       "Charles McTurland\n",
       "\n",
       "\n",
       "        ## Reason for rejection:\n",
       "The letter demonstrates you’ve read about Stably and highlights relevant technologies, but it feels generic and formulaic (e.g. “pioneering stablecoin platform,” “resonates deeply”), suggesting AI generation rather than your authentic voice. It also uses a four-paragraph structure instead of the recommended three: an engaging intro, a single body that quantifies your impact and ties directly to Stably’s needs, and a concise closing. To improve:\n",
       "\n",
       "1. Rewrite into three paragraphs: 1) Hook with your top achievement and why Stably excites you; 2) Quantify your work at Embark (e.g. “re-architected a legacy app into an SPA, driving $1.4M in new revenue”) and map those skills (Python/Django, React/Node, AWS) to challenges like sUSD and cross-chain payments; 3) Short closing expressing enthusiasm and next steps.  \n",
       "2. Use concrete metrics and drop marketing buzzwords—speak in your own voice.  \n",
       "3. Emphasize what you will deliver at Stably, not just what you want to learn.  \n",
       "\n",
       "This will produce a more concise, human, and tailored letter that meets the three-paragraph standard.\n",
       "\n",
       "\n",
       "        \n",
       "        \n",
       "\n",
       "## Previous cover letter rejected\n",
       "You just tried to create a cover letter, but the quality control rejected your cover letter\n",
       "\n",
       "        ## Your attempted cover letter:\n",
       "Dear Hiring Manager,\n",
       "\n",
       "I am writing to express my interest in the Generalist Software Engineer position at PSL, excited by the opportunity to work with an innovative team that supports and accelerates the journey of talented founders. With over a decade of experience in building scalable web applications and a strong foundation in both Python and JavaScript, I am eager to contribute to a startup studio that is committed to validating and launching transformative ideas.\n",
       "\n",
       "Throughout my tenure at Embark, I honed my ability to work collaboratively across disciplines, re-architecting a multi-page web application into a high-performing single-page app, resulting in a $1.4M increase in annual revenue. My work at MarketSmart further refined my skills in developing RESTful APIs and scalable systems, managing simultaneous processes for over 500,000 users. The dynamic and fast-paced environment at PSL aligns well with my experience, characterized by a love for building, optimizing, and leveraging technology to solve complex business challenges.\n",
       "\n",
       "My commitment to growth and learning drives me to tackle challenges with a fresh perspective, often leveraging the latest AI models for innovation. The opportunity at PSL to be involved from ideation to market launch resonates with my passion for startups and my affinity for roles that require adaptability and multidisciplinarity. I am eager to bring my technical skills, curiosity, and strategic problem-solving approach to PSL, contributing to the successful validation and scaling of new ventures.\n",
       "\n",
       "Thank you for considering my application. I look forward to the possibility of discussing how my background and abilities align with the needs of your team at PSL.\n",
       "\n",
       "Sincerely,  \n",
       "Charles McTurland  \n",
       "\n",
       "\n",
       "        ## Reason for rejection:\n",
       "This letter is polite and well-written, but it falls short on three fronts: 1) Structure: you’ve ended up with four paragraphs (intro, two body sections, a separate closing) rather than the standard three-paragraph format (strong opening, focused body, concise close). 2) Tailoring: the opening is generic and doesn’t show real enthusiasm for PSL’s unique model of “ruthless” idea validation or mention the startup-studio day-to-day activities (rapid prototyping, working with seed-stage CEOs, recruiting the first 5 hires, etc.). You also don’t call out the specific tech (TypeScript, Python, cloud infrastructure) and startup skills (AI model exploration, customer interviews, tooling judgments) that the job posting highlights. 3) Voice: the language reads like a template — consider tightening it with more concrete examples (e.g. “I led a rapid AI-powered prototype in 48 hours to vet a new ad-tech concept”) and a stronger hook about why PSL’s mission excites you. To improve: merge your two experience paragraphs into one succinct body, open with a specific statement about PSL’s approach and your fit, and close with a clear call to action in a single final paragraph.\n",
       "\n",
       "\n",
       "        "
      ],
      "text/plain": [
       "<IPython.core.display.Markdown object>"
      ]
     },
     "metadata": {},
     "output_type": "display_data"
    },
    {
     "name": "stdout",
     "output_type": "stream",
     "text": [
      "Failed evaluation - retrying\n"
     ]
    },
    {
     "data": {
      "text/markdown": [
       "## Cover Letter:\n",
       "Dear Hiring Manager,\n",
       "\n",
       "I am thrilled to express my interest in the Full Stack Engineer Co-Op Internship at Stably, a leader in the financial technology sector celebrated for its innovative stablecoin platform. The prospect of contributing to Stably’s groundbreaking work excites me as it aligns with my passion for integrating cutting-edge technology into finance to create transformative solutions.\n",
       "\n",
       "At Embark, I successfully re-architected a legacy web application into a high-performing single-page app, directly contributing to a $1.4M annual revenue boost. This experience honed my skills in Python (Django), JavaScript (React/Node.js), and AWS—technologies that are vital for optimizing products such as sUSD and cross-chain payments at Stably. My ability to enhance application performance and achieve scalability will be directly applicable as I strive to support Stably's ambitious initiatives.\n",
       "\n",
       "I am enthusiastic about the opportunity to bring my technical expertise and innovative mindset to your collaborative team. I look forward to the chance to discuss how I can contribute to the advancement of Stably’s objectives and assist in driving your pioneering work forward.\n",
       "\n",
       "Thank you for considering my application.\n",
       "\n",
       "Sincerely,\n",
       "Charles McTurland"
      ],
      "text/plain": [
       "<IPython.core.display.Markdown object>"
      ]
     },
     "metadata": {},
     "output_type": "display_data"
    },
    {
     "data": {
      "text/markdown": [
       "## Feedback:\n",
       "This letter feels like a polished template—almost certainly AI-generated—and isn’t sufficiently tailored to a Co-Op internship at Stably. You lead with senior-level revenue figures and deep production experience, but an internship candidacy needs emphasis on your academic background, your enthusiasm to learn from Stably’s team, and any coursework or personal projects in blockchain/fintech. The opening is generic (“thrilled to express my interest”) rather than drawing in the reader with what excites you about this specific role. You should: \n",
       "\n",
       "• Rewrite the opening to reference a concrete Stably initiative or product and why it resonates with you as a learner.\n",
       "• Highlight your current student status or recent academic achievements, relevant coursework, or personal blockchain/crypto projects to show you’re a fit for a Co-Op.\n",
       "• Keep three concise paragraphs: (1) why Stably and why this internship, (2) what skills and projects make you a great learner/engineer for this role, (3) your enthusiasm to contribute and grow on the team. \n",
       "\n",
       "By making these changes—focusing on your learner’s mindset, specific Stably initiatives, and real student/side-project experience—you’ll have a compelling, human-sounding letter that aligns with the Co-Op internship."
      ],
      "text/plain": [
       "<IPython.core.display.Markdown object>"
      ]
     },
     "metadata": {},
     "output_type": "display_data"
    },
    {
     "name": "stdout",
     "output_type": "stream",
     "text": [
      "Failed evaluation - retrying\n"
     ]
    },
    {
     "data": {
      "text/markdown": [
       "## Cover Letter:\n",
       "Dear Hiring Manager,\n",
       "\n",
       "I'm writing to express my enthusiasm for the Generalist Software Engineer position at Pioneer Square Labs (PSL). The chance to engage with a dynamic team dedicated to ruthlessly validating startup ideas excites me. Having spent over a decade building scalable solutions, the prospect of contributing to PSL's startup studio model—a model that systematically iterates from idea to venture-funded spinout—resonates deeply with my passion and experience.\n",
       "\n",
       "At Embark, I successfully transformed a legacy web application into a high-performing single-page app, leading to a $1.4M annual revenue boost. My experience in Python and JavaScript, coupled with my collaborative work style, equips me with the necessary skills to thrive in PSL’s fast-paced environment. My experience also includes developing scalable RESTful APIs and automating solutions that cater to vast user bases. I am particularly drawn to the opportunity to work on rapid prototyping, MVP development, and AI model exploration, aligning well with my technical expertise and PSL’s innovative aspirations.\n",
       "\n",
       "I am eager to bring my technical skills, adaptability, and passion for early-stage ventures to PSL, supporting the successful launch and scaling of transformative ideas. Thank you for considering my application. I look forward to the potential of contributing to PSL's mission and engaging further with your team.\n",
       "\n",
       "Sincerely,  \n",
       "Charles McTurland  "
      ],
      "text/plain": [
       "<IPython.core.display.Markdown object>"
      ]
     },
     "metadata": {},
     "output_type": "display_data"
    },
    {
     "data": {
      "text/markdown": [
       "## Feedback:\n",
       "The cover letter is professional and concise, but it reads as a bit formulaic and doesn’t create a compelling, personalized case for why PSL—and only PSL—is the right fit for you.  \n",
       "\n",
       "1. Strengthen your opening: Instead of a generic expression of enthusiasm, reference something specific about PSL’s track record (e.g. 450 tested ideas, 40 spinouts) or a particular spinout that excites you, to show you’ve done your homework.  \n",
       "2. Deepen the middle paragraph: You’ve highlighted your work at Embark, but draw a clearer line between your accomplishments and PSL’s day-to-day needs—rapid prototyping, AI model exploration, MVP development alongside founders, and risk assessment. Consider a brief example of a fast-moving project you led end-to-end under tight timelines.  \n",
       "3. Infuse startup passion and autonomy: PSL values people who thrive in ambiguity and love teaching/learning. Share a quick anecdote about navigating uncertainty, partnering with non-technical teammates, or mentoring others.  \n",
       "\n",
       "By weaving in these details, you’ll turn a solid, generic letter into a highly tailored, engaging narrative that feels distinctly yours."
      ],
      "text/plain": [
       "<IPython.core.display.Markdown object>"
      ]
     },
     "metadata": {},
     "output_type": "display_data"
    },
    {
     "name": "stdout",
     "output_type": "stream",
     "text": [
      "Passed evaluation - returning reply\n"
     ]
    },
    {
     "data": {
      "text/markdown": [
       "## Cover Letter:\n",
       "Dear Hiring Manager,\n",
       "\n",
       "I am excited to submit my application for the Full Stack Engineer Co-Op Internship at Stably. As an innovative force in the financial technology sector, Stably’s pioneering work on stablecoins genuinely resonates with me due to my keen interest in leveraging technology to drive finance solutions and my desire to deepen my understanding of blockchain applications.\n",
       "\n",
       "During my tenure at Embark, I accumulated considerable experience in transforming web applications, such as re-architecting a legacy multi-page system into a sophisticated single-page app, hence enhancing performance and scalability. My proficiency in Python (Django), JavaScript (React/Node.js), and cloud technologies like AWS are skills that align well with optimizing Stably’s financial platforms. Additionally, my academic background as a Computer Science graduate from the University of Pittsburgh provided me with a solid foundation in software development principles, further bolstered by a personal project involving a poker simulation app that integrates machine learning—a testament to my drive to explore new technologies.\n",
       "\n",
       "I am eager to bring my technical expertise and enthusiastic learning mindset to Stably, fostering innovation and contributing to Stably’s goals. This internship is a unique opportunity for collaboration and growth, and I am excited about the prospect of being part of such an inspiring team. Thank you for considering my application. I look forward to the possibility of discussing how I can support and contribute to your endeavors.\n",
       "\n",
       "Sincerely,  \n",
       "Charles McTurland"
      ],
      "text/plain": [
       "<IPython.core.display.Markdown object>"
      ]
     },
     "metadata": {},
     "output_type": "display_data"
    },
    {
     "data": {
      "text/markdown": [
       "## Feedback:\n",
       "This cover letter is well-structured, professional, and concise, following the standard three-paragraph format. The opening paragraph effectively expresses genuine enthusiasm for Stably’s work in stablecoins and outlines your motivation. The middle paragraph highlights strong, relevant accomplishments—re-architecting a web application at Embark and your proficiency with Python, Django, React/Node.js, and AWS—that align with the Full Stack Engineer Co-Op role. The closing paragraph provides a polite call to action and reiterates your eagerness. To make it even stronger, consider referencing a specific project or technology mentioned in the Stably job description and quantifying your achievements where possible. This will demonstrate an even deeper understanding of Stably’s needs and further differentiate your application."
      ],
      "text/plain": [
       "<IPython.core.display.Markdown object>"
      ]
     },
     "metadata": {},
     "output_type": "display_data"
    },
    {
     "data": {
      "text/markdown": [
       "## Updated system prompt:\n",
       "You are a proffesional cover letter writer, and your job is to write a cover letter for Charles McTurland, highlighting Charles McTurland's skills, experience, and achievements. \n",
       "particularly questions related to Charles McTurland's career, background, skills and experience. \n",
       "Your responsibility is to represent Charles McTurland in the letter as faithfully as possible. \n",
       "You are given a summary of Charles McTurland's background and Resume which you can use in the cover letter. \n",
       "You are given an example of a cover letter from Charles McTurland. Try and use a similar language and style. Do NOT include the placeholder information in the cover letter. \n",
       "Be professional and engaging, uing the tone and style suitable for a cover letter.\n",
       "Do not make up any information, and only use the information provided.\n",
       "Don't be too verbose, and use a 3 paragraph format.\n",
       "Respond with a cover letter and nothing else.\n",
       "Do not include the address or contact information. \n",
       "You will be given a job description, and you will need to tailor the cover letter to the job description.\n",
       "You will be evaluated, and if evalutor decides that your cover letter is not up to standart, you will be given your previus cover letters and feedback on them. \n",
       "You have to listen to the feedback, and improve your cover letter accordingly to the feedback.\n",
       "\n",
       "\n",
       "## Summary:\n",
       "As a passionate and experienced software engineer based in New York City, I’ve spent over a decade building scalable, high-impact web applications that improve user experience and drive business results. After earning my B.S. in Computer Science from the University of Pittsburgh, I began my career at MarketSmart, where I dove deep into API development and automation. Since 2015, I’ve been part of the engineering team at Embark, where I’ve helped lead the transformation of a legacy web application into a high-performing single-page app—contributing directly to a $1.4M annual revenue boost.\n",
       "\n",
       "I thrive in collaborative environments and enjoy working closely with product managers, designers, and fellow engineers to build intuitive, responsive, and reliable systems. Whether I’m optimizing performance for 35M+ users, designing internal tools, or mentoring junior engineers, I bring a strong sense of ownership and a love for clean, maintainable code.\n",
       "\n",
       "My technical toolkit includes Python (Django), JavaScript (React, Node.js), SQL/NoSQL databases, and cloud infrastructure with AWS. I’m always looking to deepen my knowledge and stay sharp—recently, I even built a poker simulation app combining machine learning and real-time visualizations, just for fun.\n",
       "\n",
       "For me, software engineering is as much about creativity and problem-solving as it is about code—and I’m excited to keep building things that make a difference.\n",
       "\n",
       "\n",
       "## Resume:\n",
       "CHARLES MCTURLAND\n",
       "SOFTWARE ENGINEER\n",
       "CONTACT\n",
       "cmcturland@email.com\n",
       "(123) 456-7890\n",
       "New York, NY\n",
       "LinkedIn\n",
       "EDUCATION\n",
       "B.S.\n",
       "Computer Science\n",
       "University of Pittsburgh\n",
       "September 2008 - April 2012\n",
       "Pittsburgh, PA\n",
       "SKILLS\n",
       "Python (Django)\n",
       "Javascript (NodeJS ReactJS,\n",
       "jQuery)\n",
       "SQL (MySQL, PostgreSQL,\n",
       "NoSQL)\n",
       "HTML5/CSS\n",
       "AWS\n",
       "Unix, Git\n",
       "WORK EXPERIENCE\n",
       "Software Engineer\n",
       "Embark\n",
       "January 2015 - current / New York, NY\n",
       "Worked with product managers to re-architect a multi-page web\n",
       "app into a single page web-app, boosting yearly revenue by $1.4M\n",
       "Constructed the logic for a streamlined ad-serving platform that\n",
       "scaled to our 35M users, which improved the page speed by 15%\n",
       "after implementation\n",
       "Tested software for bugs and operating speed, ﬁxing bugs and\n",
       "documenting processes to increase efﬁciency by 18%\n",
       "Iterated platform for college admissions, collaborating with a group\n",
       "of 4 engineers to create features across the software\n",
       "Software Engineer\n",
       "MarketSmart\n",
       "April 2012 - January 2015 / Washington, DC\n",
       "Built RESTful APIs that served data to the JavaScript front-end\n",
       "based on dynamically chosen user inputs that handled over 500,000\n",
       "concurrent users\n",
       "Built internal tool using NodeJS and Pupeteer.js to automate QA and\n",
       "monitoring of donor-facing web app, which improved CTR by 3%\n",
       "Reviewed code and conducted testing for 3 additional features on\n",
       "donor-facing web app that increased contributions by 12%\n",
       "Software Engineer Intern\n",
       "Marketing Science Company\n",
       "April 2011 - March 2012 / Pittsburgh, PA\n",
       "Partnered with a developer to implement RESTful APIs in Django,\n",
       "enabling analytics team to increase reporting speed by 24%\n",
       "Using Selenium I built out a unit testing infrastructure for a client\n",
       "application that reduced the number of bugs reported by the client\n",
       "by 11% month over month\n",
       "PROJECTS\n",
       "Poker Simulation\n",
       "Built a full-stack web app to allow users to simulate and visualize\n",
       "outcomes of poker hands against opponents of different play styles\n",
       "using open source cards.js on the front-end\n",
       "Utilized sci-kit learn in Python to simulate possible outcomes under\n",
       "different scenarios that the user chose\n",
       "\n",
       " ## Cover Letter Template:\n",
       "Dear Hiring Manager,\n",
       "\n",
       "As a seasoned software engineer with over a decade of experience building scalable, data-driven applications, I’m excited to apply for a software engineering position at Microsoft. The opportunity to contribute to a company known for its innovation and impact aligns perfectly with my passion for solving complex technical challenges at scale.\n",
       "\n",
       "At Embark, where I’ve been part of the engineering team since 2015, I helped re-architect a multi-page application into a high-performing single-page app, directly boosting annual revenue by $1.4M. I’ve also built an ad-serving platform that scaled to 35 million users, increasing page speed by 15%. These projects were driven by my focus on thoughtful architecture, collaboration across teams, and clean, efficient code.\n",
       "\n",
       "I bring to the table deep experience in Python (Django), JavaScript (React/Node), and cloud technologies like AWS, along with a strong foundation in databases and RESTful API design. I thrive in environments where I can iterate quickly, partner with cross-functional teams, and constantly improve systems to meet real-world needs—values I know Microsoft shares.\n",
       "\n",
       "Outside of my professional work, I enjoy exploring projects that combine data science and web development, including a poker simulation app I built using Sci-Kit Learn and Cards.js. I’m always looking to grow and explore new tools, frameworks, and ways to make software more intuitive and impactful.\n",
       "\n",
       "I would be thrilled to bring my experience, energy, and curiosity to Microsoft, and I welcome the opportunity to discuss how I can contribute to your engineering team. Thank you for considering my application—I look forward to connecting soon.\n",
       "\n",
       "Sincerely,\n",
       "Charles McTurland\n",
       "\n",
       "\n",
       "\n",
       "        \n",
       "\n",
       "## Previous cover letter rejected\n",
       "You just tried to create a cover letter, but the quality control rejected your cover letter\n",
       "\n",
       "        ## Your attempted cover letter:\n",
       "Dear Hiring Manager,\n",
       "\n",
       "I am thrilled to express my interest in the Full Stack Engineer Co-Op Internship at Stably, a leader in the financial technology sector celebrated for its innovative stablecoin platform. The prospect of contributing to Stably’s groundbreaking work excites me as it aligns with my passion for integrating cutting-edge technology into finance to create transformative solutions.\n",
       "\n",
       "At Embark, I successfully re-architected a legacy web application into a high-performing single-page app, directly contributing to a $1.4M annual revenue boost. This experience honed my skills in Python (Django), JavaScript (React/Node.js), and AWS—technologies that are vital for optimizing products such as sUSD and cross-chain payments at Stably. My ability to enhance application performance and achieve scalability will be directly applicable as I strive to support Stably's ambitious initiatives.\n",
       "\n",
       "I am enthusiastic about the opportunity to bring my technical expertise and innovative mindset to your collaborative team. I look forward to the chance to discuss how I can contribute to the advancement of Stably’s objectives and assist in driving your pioneering work forward.\n",
       "\n",
       "Thank you for considering my application.\n",
       "\n",
       "Sincerely,\n",
       "Charles McTurland\n",
       "\n",
       "\n",
       "        ## Reason for rejection:\n",
       "This letter feels like a polished template—almost certainly AI-generated—and isn’t sufficiently tailored to a Co-Op internship at Stably. You lead with senior-level revenue figures and deep production experience, but an internship candidacy needs emphasis on your academic background, your enthusiasm to learn from Stably’s team, and any coursework or personal projects in blockchain/fintech. The opening is generic (“thrilled to express my interest”) rather than drawing in the reader with what excites you about this specific role. You should: \n",
       "\n",
       "• Rewrite the opening to reference a concrete Stably initiative or product and why it resonates with you as a learner.\n",
       "• Highlight your current student status or recent academic achievements, relevant coursework, or personal blockchain/crypto projects to show you’re a fit for a Co-Op.\n",
       "• Keep three concise paragraphs: (1) why Stably and why this internship, (2) what skills and projects make you a great learner/engineer for this role, (3) your enthusiasm to contribute and grow on the team. \n",
       "\n",
       "By making these changes—focusing on your learner’s mindset, specific Stably initiatives, and real student/side-project experience—you’ll have a compelling, human-sounding letter that aligns with the Co-Op internship.\n",
       "\n",
       "\n",
       "        \n",
       "        \n",
       "\n",
       "## Previous cover letter rejected\n",
       "You just tried to create a cover letter, but the quality control rejected your cover letter\n",
       "\n",
       "        ## Your attempted cover letter:\n",
       "Dear Hiring Manager,\n",
       "\n",
       "I'm writing to express my enthusiasm for the Generalist Software Engineer position at Pioneer Square Labs (PSL). The chance to engage with a dynamic team dedicated to ruthlessly validating startup ideas excites me. Having spent over a decade building scalable solutions, the prospect of contributing to PSL's startup studio model—a model that systematically iterates from idea to venture-funded spinout—resonates deeply with my passion and experience.\n",
       "\n",
       "At Embark, I successfully transformed a legacy web application into a high-performing single-page app, leading to a $1.4M annual revenue boost. My experience in Python and JavaScript, coupled with my collaborative work style, equips me with the necessary skills to thrive in PSL’s fast-paced environment. My experience also includes developing scalable RESTful APIs and automating solutions that cater to vast user bases. I am particularly drawn to the opportunity to work on rapid prototyping, MVP development, and AI model exploration, aligning well with my technical expertise and PSL’s innovative aspirations.\n",
       "\n",
       "I am eager to bring my technical skills, adaptability, and passion for early-stage ventures to PSL, supporting the successful launch and scaling of transformative ideas. Thank you for considering my application. I look forward to the potential of contributing to PSL's mission and engaging further with your team.\n",
       "\n",
       "Sincerely,  \n",
       "Charles McTurland  \n",
       "\n",
       "\n",
       "        ## Reason for rejection:\n",
       "The cover letter is professional and concise, but it reads as a bit formulaic and doesn’t create a compelling, personalized case for why PSL—and only PSL—is the right fit for you.  \n",
       "\n",
       "1. Strengthen your opening: Instead of a generic expression of enthusiasm, reference something specific about PSL’s track record (e.g. 450 tested ideas, 40 spinouts) or a particular spinout that excites you, to show you’ve done your homework.  \n",
       "2. Deepen the middle paragraph: You’ve highlighted your work at Embark, but draw a clearer line between your accomplishments and PSL’s day-to-day needs—rapid prototyping, AI model exploration, MVP development alongside founders, and risk assessment. Consider a brief example of a fast-moving project you led end-to-end under tight timelines.  \n",
       "3. Infuse startup passion and autonomy: PSL values people who thrive in ambiguity and love teaching/learning. Share a quick anecdote about navigating uncertainty, partnering with non-technical teammates, or mentoring others.  \n",
       "\n",
       "By weaving in these details, you’ll turn a solid, generic letter into a highly tailored, engaging narrative that feels distinctly yours.\n",
       "\n",
       "\n",
       "        "
      ],
      "text/plain": [
       "<IPython.core.display.Markdown object>"
      ]
     },
     "metadata": {},
     "output_type": "display_data"
    },
    {
     "name": "stdout",
     "output_type": "stream",
     "text": [
      "Passed evaluation - returning reply\n"
     ]
    },
    {
     "data": {
      "text/markdown": [
       "## Cover Letter:\n",
       "Dear Hiring Manager,\n",
       "\n",
       "I'm writing to express my enthusiasm for the Generalist Software Engineer position at Pioneer Square Labs (PSL). The chance to engage with a dynamic team dedicated to ruthlessly validating startup ideas excites me. I am particularly drawn to PSL’s systematic approach to creating spinouts, with over 450 tested ideas and 40 successful ventures. Having spent over a decade building scalable solutions, I am eager to contribute to PSL’s mission and leverage my passion for startups and innovation.\n",
       "\n",
       "At Embark, I successfully transformed a legacy web application into a high-performing single-page app, leading to a $1.4M annual revenue boost. My proficiency in Python and JavaScript, combined with my experience in developing RESTful APIs and automating solutions, aligns well with PSL's need for rapid prototyping and MVP development. I thrive in environments where I can iterate quickly, collaborate with cross-functional teams, and tackle ambiguity—qualities I know PSL values. An example of my ability to navigate uncertainty is when I partnered with product managers to iterate a college admissions platform under tight timelines, ensuring a smooth delivery that met user expectations.\n",
       "\n",
       "I am eager to bring my technical skills, adaptability, and passion for early-stage ventures to PSL, supporting the successful launch and scaling of transformative ideas. I look forward to further discussing how I can contribute to PSL's mission and engage with your passionate team. Thank you for considering my application.\n",
       "\n",
       "Sincerely,  \n",
       "Charles McTurland  "
      ],
      "text/plain": [
       "<IPython.core.display.Markdown object>"
      ]
     },
     "metadata": {},
     "output_type": "display_data"
    },
    {
     "data": {
      "text/markdown": [
       "## Feedback:\n",
       "Your cover letter is well-structured—three concise paragraphs—and clearly tailored to PSL, with specific references to their 450 tested ideas and 40 spinouts. You highlight strong, quantifiable achievements at Embark and tie your Python/JavaScript and rapid-prototyping experience back to PSL’s mission. The tone is professional and you demonstrate familiarity with the fast-paced, ambiguous environment of a startup studio.\n",
       "\n",
       "Areas for improvement:\n",
       "• Opening paragraph: Instead of the generic “I’m writing to express,” lead with a brief anecdote or vivid statement about your passion for early-stage ventures. For example, mention a moment when you shipped your first prototype under a tight deadline or why PSL’s ruthless validation approach resonates with your own mindset. That creates an immediate hook.\n",
       "• Deepen tailoring: You touch on MVP development and ambiguity, but you could reference other core responsibilities (e.g., working with AI models, talking to customers, recruiting technical talent) and show how you’ve done them or are eager to learn. A line on how you’d leverage your AWS or cloud-infrastructure background to set the technical foundation for new spinouts would reinforce fit.\n",
       "• Show cultural fit: PSL values community engagement in Seattle and venture partnerships. A sentence on any involvement you’ve had in local tech meetups or mentoring could strengthen your candidacy.\n",
       "\n",
       "Overall, this is a solid foundation. With a more engaging opening and a few extra details about how you’ll tackle PSL’s day-to-day challenges, it will stand out even more."
      ],
      "text/plain": [
       "<IPython.core.display.Markdown object>"
      ]
     },
     "metadata": {},
     "output_type": "display_data"
    },
    {
     "data": {
      "text/markdown": [
       "## Updated system prompt:\n",
       "You are a proffesional cover letter writer, and your job is to write a cover letter for Charles McTurland, highlighting Charles McTurland's skills, experience, and achievements. \n",
       "particularly questions related to Charles McTurland's career, background, skills and experience. \n",
       "Your responsibility is to represent Charles McTurland in the letter as faithfully as possible. \n",
       "You are given a summary of Charles McTurland's background and Resume which you can use in the cover letter. \n",
       "You are given an example of a cover letter from Charles McTurland. Try and use a similar language and style. Do NOT include the placeholder information in the cover letter. \n",
       "Be professional and engaging, uing the tone and style suitable for a cover letter.\n",
       "Do not make up any information, and only use the information provided.\n",
       "Don't be too verbose, and use a 3 paragraph format.\n",
       "Respond with a cover letter and nothing else.\n",
       "Do not include the address or contact information. \n",
       "You will be given a job description, and you will need to tailor the cover letter to the job description.\n",
       "You will be evaluated, and if evalutor decides that your cover letter is not up to standart, you will be given your previus cover letters and feedback on them. \n",
       "You have to listen to the feedback, and improve your cover letter accordingly to the feedback.\n",
       "\n",
       "\n",
       "## Summary:\n",
       "As a passionate and experienced software engineer based in New York City, I’ve spent over a decade building scalable, high-impact web applications that improve user experience and drive business results. After earning my B.S. in Computer Science from the University of Pittsburgh, I began my career at MarketSmart, where I dove deep into API development and automation. Since 2015, I’ve been part of the engineering team at Embark, where I’ve helped lead the transformation of a legacy web application into a high-performing single-page app—contributing directly to a $1.4M annual revenue boost.\n",
       "\n",
       "I thrive in collaborative environments and enjoy working closely with product managers, designers, and fellow engineers to build intuitive, responsive, and reliable systems. Whether I’m optimizing performance for 35M+ users, designing internal tools, or mentoring junior engineers, I bring a strong sense of ownership and a love for clean, maintainable code.\n",
       "\n",
       "My technical toolkit includes Python (Django), JavaScript (React, Node.js), SQL/NoSQL databases, and cloud infrastructure with AWS. I’m always looking to deepen my knowledge and stay sharp—recently, I even built a poker simulation app combining machine learning and real-time visualizations, just for fun.\n",
       "\n",
       "For me, software engineering is as much about creativity and problem-solving as it is about code—and I’m excited to keep building things that make a difference.\n",
       "\n",
       "\n",
       "## Resume:\n",
       "CHARLES MCTURLAND\n",
       "SOFTWARE ENGINEER\n",
       "CONTACT\n",
       "cmcturland@email.com\n",
       "(123) 456-7890\n",
       "New York, NY\n",
       "LinkedIn\n",
       "EDUCATION\n",
       "B.S.\n",
       "Computer Science\n",
       "University of Pittsburgh\n",
       "September 2008 - April 2012\n",
       "Pittsburgh, PA\n",
       "SKILLS\n",
       "Python (Django)\n",
       "Javascript (NodeJS ReactJS,\n",
       "jQuery)\n",
       "SQL (MySQL, PostgreSQL,\n",
       "NoSQL)\n",
       "HTML5/CSS\n",
       "AWS\n",
       "Unix, Git\n",
       "WORK EXPERIENCE\n",
       "Software Engineer\n",
       "Embark\n",
       "January 2015 - current / New York, NY\n",
       "Worked with product managers to re-architect a multi-page web\n",
       "app into a single page web-app, boosting yearly revenue by $1.4M\n",
       "Constructed the logic for a streamlined ad-serving platform that\n",
       "scaled to our 35M users, which improved the page speed by 15%\n",
       "after implementation\n",
       "Tested software for bugs and operating speed, ﬁxing bugs and\n",
       "documenting processes to increase efﬁciency by 18%\n",
       "Iterated platform for college admissions, collaborating with a group\n",
       "of 4 engineers to create features across the software\n",
       "Software Engineer\n",
       "MarketSmart\n",
       "April 2012 - January 2015 / Washington, DC\n",
       "Built RESTful APIs that served data to the JavaScript front-end\n",
       "based on dynamically chosen user inputs that handled over 500,000\n",
       "concurrent users\n",
       "Built internal tool using NodeJS and Pupeteer.js to automate QA and\n",
       "monitoring of donor-facing web app, which improved CTR by 3%\n",
       "Reviewed code and conducted testing for 3 additional features on\n",
       "donor-facing web app that increased contributions by 12%\n",
       "Software Engineer Intern\n",
       "Marketing Science Company\n",
       "April 2011 - March 2012 / Pittsburgh, PA\n",
       "Partnered with a developer to implement RESTful APIs in Django,\n",
       "enabling analytics team to increase reporting speed by 24%\n",
       "Using Selenium I built out a unit testing infrastructure for a client\n",
       "application that reduced the number of bugs reported by the client\n",
       "by 11% month over month\n",
       "PROJECTS\n",
       "Poker Simulation\n",
       "Built a full-stack web app to allow users to simulate and visualize\n",
       "outcomes of poker hands against opponents of different play styles\n",
       "using open source cards.js on the front-end\n",
       "Utilized sci-kit learn in Python to simulate possible outcomes under\n",
       "different scenarios that the user chose\n",
       "\n",
       " ## Cover Letter Template:\n",
       "Dear Hiring Manager,\n",
       "\n",
       "As a seasoned software engineer with over a decade of experience building scalable, data-driven applications, I’m excited to apply for a software engineering position at Microsoft. The opportunity to contribute to a company known for its innovation and impact aligns perfectly with my passion for solving complex technical challenges at scale.\n",
       "\n",
       "At Embark, where I’ve been part of the engineering team since 2015, I helped re-architect a multi-page application into a high-performing single-page app, directly boosting annual revenue by $1.4M. I’ve also built an ad-serving platform that scaled to 35 million users, increasing page speed by 15%. These projects were driven by my focus on thoughtful architecture, collaboration across teams, and clean, efficient code.\n",
       "\n",
       "I bring to the table deep experience in Python (Django), JavaScript (React/Node), and cloud technologies like AWS, along with a strong foundation in databases and RESTful API design. I thrive in environments where I can iterate quickly, partner with cross-functional teams, and constantly improve systems to meet real-world needs—values I know Microsoft shares.\n",
       "\n",
       "Outside of my professional work, I enjoy exploring projects that combine data science and web development, including a poker simulation app I built using Sci-Kit Learn and Cards.js. I’m always looking to grow and explore new tools, frameworks, and ways to make software more intuitive and impactful.\n",
       "\n",
       "I would be thrilled to bring my experience, energy, and curiosity to Microsoft, and I welcome the opportunity to discuss how I can contribute to your engineering team. Thank you for considering my application—I look forward to connecting soon.\n",
       "\n",
       "Sincerely,\n",
       "Charles McTurland\n",
       "\n",
       "\n"
      ],
      "text/plain": [
       "<IPython.core.display.Markdown object>"
      ]
     },
     "metadata": {},
     "output_type": "display_data"
    }
   ],
   "source": [
    "gr.ChatInterface(requestLetter, type=\"messages\").launch()"
   ]
  },
  {
   "cell_type": "code",
   "execution_count": null,
   "metadata": {},
   "outputs": [],
   "source": []
  }
 ],
 "metadata": {
  "kernelspec": {
   "display_name": ".venv",
   "language": "python",
   "name": "python3"
  },
  "language_info": {
   "codemirror_mode": {
    "name": "ipython",
    "version": 3
   },
   "file_extension": ".py",
   "mimetype": "text/x-python",
   "name": "python",
   "nbconvert_exporter": "python",
   "pygments_lexer": "ipython3",
   "version": "3.12.1"
  }
 },
 "nbformat": 4,
 "nbformat_minor": 2
}
