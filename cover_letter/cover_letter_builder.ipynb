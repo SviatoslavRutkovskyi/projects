{
 "cells": [
  {
   "cell_type": "markdown",
   "metadata": {},
   "source": [
    "This is a cover letter builder using agentic ai\n"
   ]
  },
  {
   "cell_type": "code",
   "execution_count": 22,
   "metadata": {},
   "outputs": [],
   "source": [
    "#imports\n",
    "\n",
    "from dotenv import load_dotenv\n",
    "from openai import OpenAI\n",
    "from pypdf import PdfReader\n",
    "import gradio as gr\n",
    "from pydantic import BaseModel\n",
    "import requests\n",
    "from bs4 import BeautifulSoup\n",
    "from IPython.display import Markdown, display"
   ]
  },
  {
   "cell_type": "code",
   "execution_count": 23,
   "metadata": {},
   "outputs": [
    {
     "data": {
      "text/plain": [
       "True"
      ]
     },
     "execution_count": 23,
     "metadata": {},
     "output_type": "execute_result"
    }
   ],
   "source": [
    "load_dotenv(override=True)\n"
   ]
  },
  {
   "cell_type": "code",
   "execution_count": 24,
   "metadata": {},
   "outputs": [],
   "source": [
    "openai = OpenAI()"
   ]
  },
  {
   "cell_type": "code",
   "execution_count": 25,
   "metadata": {},
   "outputs": [],
   "source": [
    "creator_model = \"gpt-4o\"\n",
    "evaluator_model = \"o4-mini\""
   ]
  },
  {
   "cell_type": "code",
   "execution_count": 26,
   "metadata": {},
   "outputs": [],
   "source": [
    "with open(\"../me/summary.txt\", \"r\", encoding=\"utf-8\") as f:\n",
    "    summary = f.read()\n",
    "\n",
    "with open(\"../me/cover_letter_template.txt\", \"r\", encoding=\"utf-8\") as f:\n",
    "    cover_letter_template = f.read()\n",
    "    "
   ]
  },
  {
   "cell_type": "code",
   "execution_count": 27,
   "metadata": {},
   "outputs": [],
   "source": [
    "reader = PdfReader(\"../me/resume.pdf\")\n",
    "resume = \"\"\n",
    "for page in reader.pages:\n",
    "    text = page.extract_text()\n",
    "    if text:\n",
    "        resume += text"
   ]
  },
  {
   "cell_type": "code",
   "execution_count": 28,
   "metadata": {},
   "outputs": [],
   "source": [
    "name = \"Sviatoslav Rutkovskyi\"\n"
   ]
  },
  {
   "cell_type": "code",
   "execution_count": 29,
   "metadata": {},
   "outputs": [],
   "source": [
    "system_prompt = f\"\"\"You are a proffesional cover letter writer, and your job is to write a cover letter for {name}, highlighting {name}'s skills, experience, and achievements. \n",
    "particularly questions related to {name}'s career, background, skills and experience. \n",
    "Your responsibility is to represent {name} in the letter as faithfully as possible. \n",
    "You are given a summary of {name}'s background and Resume which you can use in the cover letter. \n",
    "You are given an example of a cover letter from {name}. Try and use a similar language and style. Do NOT include the placeholder information in the cover letter. \n",
    "Be professional and engaging, uing the tone and style suitable for a cover letter.\n",
    "Do not make up any information, and only use the information provided.\n",
    "Don't be too verbose, and use a 3 paragraph format.\n",
    "Respond with a cover letter and nothing else.\n",
    "Do not include the address or contact information. \n",
    "You will be given a job description, and you will need to tailor the cover letter to the job description.\n",
    "You will be evaluated, and if evalutor decides that your cover letter is not up to standart, you will be given your previus cover letters and feedback on them. \n",
    "You have to listen to the feedback, and improve your cover letter accordingly to the feedback.\n",
    "\\n\\n## Summary:\\n{summary}\\n\\n## Resume:\\n{resume}\\n\\n ## Cover Letter Template:\\n{cover_letter_template}\\n\\n\n",
    "\"\"\"\n",
    "\n"
   ]
  },
  {
   "cell_type": "code",
   "execution_count": 30,
   "metadata": {},
   "outputs": [],
   "source": [
    "\n",
    "updated_system_prompt = system_prompt"
   ]
  },
  {
   "cell_type": "code",
   "execution_count": 31,
   "metadata": {},
   "outputs": [],
   "source": [
    "evaluator_system_prompt = f\"\"\"\n",
    "You are a professional evaluator that decides whether a cover letter is acceptable. \n",
    "You are provided with {name}'s summary and resume, an example of a cover letter from {name}, the job description, and the cover letter. \n",
    "Your task is to evaluate the cover letter, and reply with whether it is acceptable and your feedback. \n",
    "You need to ensure if the cover letter is professional, engaging, and tailored to the job description. \n",
    "You need to ensure if the cover letter was likely made by AI, and if it was made by AI, deny it, and provide feedback. Do not allow AI generated cover letters.\n",
    "You need to ensure that the cover letter has a strong and engaging opening paragraph. \n",
    "You need to ensure that the cover letter is concise and uses the standard 3 paragraph format.\n",
    "Here's the information:\n",
    "\\n\\n## Summary:\\n{summary}\\n\\n## Resume:\\n{resume}\\n\\n## Cover Letter Template:\\n{cover_letter_template}\\n\\n\n",
    "With this context, please evaluate the cover letter, replying with whether the cover letter is acceptable and your feedback.\n",
    "\"\"\""
   ]
  },
  {
   "cell_type": "code",
   "execution_count": 32,
   "metadata": {},
   "outputs": [],
   "source": [
    "class Evaluation(BaseModel):\n",
    "    is_acceptable: bool\n",
    "    feedback: str"
   ]
  },
  {
   "cell_type": "code",
   "execution_count": 33,
   "metadata": {},
   "outputs": [],
   "source": [
    "def evaluator_cover_letter(job_post, cover_letter):\n",
    "    return f\"\"\"\n",
    "    Here's the job posting presented by the user: \\n\\n{job_post}\\n\\n\n",
    "    Here's the cover letter generated by the agent: \\n\\n{cover_letter}\\n\\n\n",
    "    Please evaluate the response, replying with whether it is acceptable and your extensive feedback.\n",
    "    \"\"\""
   ]
  },
  {
   "cell_type": "code",
   "execution_count": 34,
   "metadata": {},
   "outputs": [],
   "source": [
    "def update_system_prompt(cover_letter, feedback):\n",
    "        global updated_system_prompt\n",
    "        updated_system_prompt = updated_system_prompt + f\"\"\"\n",
    "        \\n\\n## Previous cover letter rejected\\nYou just tried to create a cover letter, but the quality control rejected your cover letter\\n\n",
    "        ## Your attempted cover letter:\\n{cover_letter}\\n\\n\n",
    "        ## Reason for rejection:\\n{feedback}\\n\\n\n",
    "        \"\"\"\n",
    "        return updated_system_prompt;"
   ]
  },
  {
   "cell_type": "code",
   "execution_count": 35,
   "metadata": {},
   "outputs": [],
   "source": [
    "def evaluate(job_post, cover_letter) -> Evaluation:\n",
    "    messages = [\n",
    "        {\"role\": \"system\", \"content\": evaluator_system_prompt},\n",
    "        {\"role\": \"user\", \"content\": evaluator_cover_letter(job_post, cover_letter)},\n",
    "        {\"role\": \"user\", \"content\": \"Reply ONLY in valid JSON: {\\\"is_acceptable\\\": true/false, \\\"feedback\\\": \\\"...\\\"}\"}\n",
    "    ]\n",
    "    response = openai.responses.parse(\n",
    "        model=evaluator_model,\n",
    "        reasoning = {\"effort\":\"high\"},\n",
    "        input=messages,\n",
    "        text_format = Evaluation,\n",
    "        )\n",
    "    return response.output_parsed"
   ]
  },
  {
   "cell_type": "code",
   "execution_count": 36,
   "metadata": {},
   "outputs": [],
   "source": [
    "def run(prompt, job_posting):\n",
    "    messages = [{\"role\": \"system\", \"content\": prompt}] + [{\"role\": \"user\", \"content\": job_posting}]\n",
    "    response = openai.chat.completions.create(model=creator_model, messages=messages)\n",
    "    return response.choices[0].message.content"
   ]
  },
  {
   "cell_type": "code",
   "execution_count": 37,
   "metadata": {},
   "outputs": [],
   "source": [
    "\n",
    "def scrape_webpage_simple(url):\n",
    "    try:\n",
    "        # Set headers to mimic a real browser\n",
    "        headers = {\n",
    "            'User-Agent': 'Mozilla/5.0'\n",
    "        }\n",
    "        \n",
    "        # Make the request\n",
    "        response = requests.get(url, headers=headers, timeout=10)\n",
    "        response.raise_for_status()  # Raise an error for bad status codes\n",
    "        \n",
    "        # Parse the HTML\n",
    "        soup = BeautifulSoup(response.content, 'html.parser')\n",
    "\n",
    "        # Get all text content\n",
    "        return soup.get_text()\n",
    "        \n",
    "        \n",
    "    except requests.RequestException:\n",
    "        return 'error'\n",
    "    except Exception:\n",
    "        return 'error'\n"
   ]
  },
  {
   "cell_type": "code",
   "execution_count": 38,
   "metadata": {},
   "outputs": [],
   "source": [
    "def requestLetter(job_posting, history):\n",
    "    global updated_system_prompt\n",
    "    page = scrape_webpage_simple(job_posting)\n",
    "    print(page)\n",
    "    if page == 'error':\n",
    "        print(\"Failed to scrape job posting\")\n",
    "    else:\n",
    "        job_posting = page\n",
    "\n",
    "    cover_letter = run(system_prompt, job_posting)\n",
    "\n",
    "    eval_counter = 0\n",
    "    while eval_counter < 10:\n",
    "        evaluation = evaluate(job_posting, cover_letter)\n",
    "        if evaluation.is_acceptable:\n",
    "            print(\"Passed evaluation - returning reply\")\n",
    "            display(Markdown(f\"## Cover Letter:\\n{cover_letter}\"));\n",
    "            display(Markdown(f\"## Feedback:\\n{evaluation.feedback}\"))\n",
    "            display(Markdown(f\"## Updated system prompt:\\n{updated_system_prompt}\"))\n",
    "            updated_system_prompt = system_prompt;\n",
    "            return cover_letter\n",
    "        else:\n",
    "            eval_counter += 1\n",
    "            print(\"Failed evaluation - retrying\")\n",
    "            display(Markdown(f\"## Cover Letter:\\n{cover_letter}\"))\n",
    "            display(Markdown(f\"## Feedback:\\n{evaluation.feedback}\"))\n",
    "            cover_letter = run(update_system_prompt(cover_letter, evaluation.feedback), job_posting)\n",
    "    print(\"Failed evaluation - returning reply\")\n",
    "    return \"Unable to generate cover letter\" +\"\\n\" + evaluation.feedback    \n",
    "    "
   ]
  },
  {
   "cell_type": "code",
   "execution_count": 39,
   "metadata": {},
   "outputs": [
    {
     "name": "stdout",
     "output_type": "stream",
     "text": [
      "* Running on local URL:  http://127.0.0.1:7861\n",
      "* To create a public link, set `share=True` in `launch()`.\n"
     ]
    },
    {
     "data": {
      "text/html": [
       "<div><iframe src=\"http://127.0.0.1:7861/\" width=\"100%\" height=\"500\" allow=\"autoplay; camera; microphone; clipboard-read; clipboard-write;\" frameborder=\"0\" allowfullscreen></iframe></div>"
      ],
      "text/plain": [
       "<IPython.core.display.HTML object>"
      ]
     },
     "metadata": {},
     "output_type": "display_data"
    },
    {
     "data": {
      "text/plain": []
     },
     "execution_count": 39,
     "metadata": {},
     "output_type": "execute_result"
    }
   ],
   "source": [
    "gr.ChatInterface(requestLetter, type=\"messages\").launch()"
   ]
  },
  {
   "cell_type": "code",
   "execution_count": null,
   "metadata": {},
   "outputs": [],
   "source": []
  }
 ],
 "metadata": {
  "kernelspec": {
   "display_name": ".venv",
   "language": "python",
   "name": "python3"
  },
  "language_info": {
   "codemirror_mode": {
    "name": "ipython",
    "version": 3
   },
   "file_extension": ".py",
   "mimetype": "text/x-python",
   "name": "python",
   "nbconvert_exporter": "python",
   "pygments_lexer": "ipython3",
   "version": "3.12.1"
  }
 },
 "nbformat": 4,
 "nbformat_minor": 2
}
