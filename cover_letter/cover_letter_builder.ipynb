{
 "cells": [
  {
   "cell_type": "markdown",
   "metadata": {},
   "source": [
    "<table style=\"margin: 0; text-align: left; width:100%\">\n",
    "    <tr>\n",
    "        <td>\n",
    "            <h2 style=\"color:#32CD32;\">Intro</h2>\n",
    "            <span style=\"color:#32CD32;\">\n",
    "                This is a cover letter builder that uses agentic AI to help you create cover letters. This is a notebook, where you can experiment with different promts, models, or design patterns. You can run each cell individualy, or use the Run All button at the top. \n",
    "            </span>\n",
    "        </td>\n",
    "    </tr>\n",
    "</table>"
   ]
  },
  {
   "cell_type": "code",
   "execution_count": null,
   "metadata": {},
   "outputs": [],
   "source": [
    "from pypdf import PdfReader\n",
    "from cover_letter_builder import CoverLetterBuilder"
   ]
  },
  {
   "cell_type": "code",
   "execution_count": null,
   "metadata": {},
   "outputs": [],
   "source": [
    "# This app uses the default values.\n",
    "# You can just run it, but it won't be personalized to you.\n",
    "CoverLetterBuilder()"
   ]
  },
  {
   "cell_type": "markdown",
   "metadata": {},
   "source": [
    "<table style=\"margin: 0; text-align: left; width:100%\">\n",
    "    <tr>\n",
    "        <td>\n",
    "            <span style=\"color:#32CD32;\">\n",
    "                You can already run the CoverLetterBuilder, but it only has the default values right now. You can replace the default values, or you can pass in parameters to replace them. Let's work on that.\n",
    "            </span>\n",
    "        </td>\n",
    "    </tr>\n",
    "</table>"
   ]
  },
  {
   "cell_type": "code",
   "execution_count": null,
   "metadata": {},
   "outputs": [],
   "source": [
    "# models used\n",
    "creator_model = \"gpt-4o\"\n",
    "evaluator_model = \"o4-mini\""
   ]
  },
  {
   "cell_type": "code",
   "execution_count": null,
   "metadata": {},
   "outputs": [],
   "source": [
    "# Path to your summary and cover_letter\n",
    "summary_path = \"about/summary.txt\"\n",
    "cover_letter_path = \"about/cover_letter_template.txt\"\n",
    "\n",
    "# path to your resume\n",
    "resume_path = \"about/resume.pdf\"\n",
    "\n"
   ]
  },
  {
   "cell_type": "code",
   "execution_count": null,
   "metadata": {},
   "outputs": [],
   "source": [
    "# Insert your name here. \n",
    "name = \"Charles McTurland\""
   ]
  },
  {
   "cell_type": "code",
   "execution_count": null,
   "metadata": {},
   "outputs": [],
   "source": [
    " # evalion limit - you can limit it to avoid expences\n",
    "eval_limit = 10"
   ]
  },
  {
   "cell_type": "code",
   "execution_count": null,
   "metadata": {},
   "outputs": [],
   "source": [
    "# if you want to include AI suggestions on how to further improve the cover letter, set this to true\n",
    "include_feedback = True"
   ]
  },
  {
   "cell_type": "markdown",
   "metadata": {},
   "source": [
    "<table style=\"margin: 0; text-align: left; width:100%\">\n",
    "    <tr>\n",
    "        <td>\n",
    "            <span style=\"color:#32CD32;\">\n",
    "                You provided all of the personalized information to the cover_letter_builder, and now its ready to create a resume specificaly for you! Let's try it out. \n",
    "            </span>\n",
    "        </td>\n",
    "    </tr>\n",
    "</table>"
   ]
  },
  {
   "cell_type": "code",
   "execution_count": null,
   "metadata": {},
   "outputs": [],
   "source": [
    "# This app uses all of the input that we just set up. \n",
    "CoverLetterBuilder(\n",
    "    creator_model = creator_model, \n",
    "    evaluator_model = evaluator_model, \n",
    "    name = name, \n",
    "    eval_limit = eval_limit,\n",
    "    summary_path = summary_path,\n",
    "    cover_letter_path = cover_letter_path,\n",
    "    resume_path = resume_path,\n",
    "    include_feedback=include_feedback)"
   ]
  },
  {
   "cell_type": "markdown",
   "metadata": {},
   "source": [
    "<table style=\"margin: 0; text-align: left; width:100%\">\n",
    "    <tr>\n",
    "        <td>\n",
    "            <span style=\"color:#32CD32;\">\n",
    "                Hey, it works! But we can take it a bit further. You can further cusomize the app by changing the promts for the AI.  \n",
    "            </span>\n",
    "        </td>\n",
    "    </tr>\n",
    "</table>"
   ]
  },
  {
   "cell_type": "code",
   "execution_count": null,
   "metadata": {},
   "outputs": [],
   "source": [
    "# Reads your summary and cover letter.\n",
    "with open(summary_path, \"r\", encoding=\"utf-8\") as f:\n",
    "    summary = f.read()\n",
    "\n",
    "with open(cover_letter_path, \"r\", encoding=\"utf-8\") as f:\n",
    "    cover_letter_template = f.read()\n",
    "    \n",
    "# Reads you resume. \n",
    "reader = PdfReader(resume_path)\n",
    "resume = \"\"\n",
    "for page in reader.pages:\n",
    "    text = page.extract_text()\n",
    "    if text:\n",
    "        resume += text"
   ]
  },
  {
   "cell_type": "code",
   "execution_count": null,
   "metadata": {},
   "outputs": [],
   "source": [
    "# Initial system prompt: you can adjust it to your needs and preferences. There is always room for improvement!\n",
    "system_prompt = f\"\"\"You are a proffesional cover letter writer, and your job is to write a cover letter for {name}, highlighting {name}'s skills, experience, and achievements. \n",
    "particularly questions related to {name}'s career, background, skills and experience. \n",
    "Your responsibility is to represent {name} in the letter as faithfully as possible. \n",
    "You are given a summary of {name}'s background and Resume which you can use in the cover letter. \n",
    "You are given an example of a cover letter from {name}. Try and use a similar language and style. Do NOT include the placeholder information in the cover letter. \n",
    "Be professional and engaging, uing the tone and style suitable for a cover letter.\n",
    "Do not make up any information, and only use the information provided.\n",
    "Don't be too verbose, and use a 3 paragraph format.\n",
    "Respond with a cover letter and nothing else.\n",
    "Do not include the address or contact information. \n",
    "You will be given a job description, and you will need to tailor the cover letter to the job description.\n",
    "You will be evaluated, and if evalutor decides that your cover letter is not up to standart, you will be given your previus cover letters and feedback on them. \n",
    "You have to listen to the feedback, and improve your cover letter accordingly to the feedback.\n",
    "\\n\\n## Summary:\\n{summary}\\n\\n## Resume:\\n{resume}\\n\\n ## Cover Letter Template:\\n{cover_letter_template}\\n\\n\n",
    "\"\"\""
   ]
  },
  {
   "cell_type": "code",
   "execution_count": null,
   "metadata": {},
   "outputs": [],
   "source": [
    "# Evaluator prompt: you can adjust it to your needs and preferences. There is always room for improvement!\n",
    "evaluator_prompt = f\"\"\"\n",
    "You are a professional evaluator that decides whether a cover letter is acceptable. \n",
    "You are provided with {name}'s summary and resume, an example of a cover letter from {name}, the job description, and the cover letter. \n",
    "Your task is to evaluate the cover letter, and reply with whether it is acceptable and your feedback. \n",
    "You need to ensure if the cover letter is professional, engaging, and tailored to the job description. \n",
    "You need to ensure if the cover letter was likely made by AI, and if it was made by AI, deny it, and provide feedback. Do not allow AI generated cover letters.\n",
    "You need to ensure that the cover letter has a strong and engaging opening paragraph. \n",
    "You need to ensure that the cover letter is concise and uses the standard 3 paragraph format.\n",
    "Here's the information:\n",
    "\\n\\n## Summary:\\n{summary}\\n\\n## Resume:\\n{resume}\\n\\n## Cover Letter Template:\\n{cover_letter_template}\\n\\n\n",
    "With this context, please evaluate the cover letter, replying with whether the cover letter is acceptable and your feedback.\n",
    "\"\"\""
   ]
  },
  {
   "cell_type": "code",
   "execution_count": null,
   "metadata": {},
   "outputs": [],
   "source": [
    "# This app uses the prompts that we just set up. \n",
    "CoverLetterBuilder(\n",
    "    creator_model = creator_model, \n",
    "    evaluator_model = evaluator_model, \n",
    "    eval_limit = eval_limit,\n",
    "    include_feedback=include_feedback,\n",
    "    system_prompt = system_prompt,\n",
    "    evaluator_prompt = evaluator_prompt)"
   ]
  },
  {
   "cell_type": "markdown",
   "metadata": {},
   "source": [
    "<table style=\"margin: 0; text-align: left; width:100%\">\n",
    "    <tr>\n",
    "        <td>\n",
    "            <h2 style=\"color:#32CD32;\">Conclusion</h2>\n",
    "            <span style=\"color:#32CD32;\">\n",
    "                And thats it! At least for now. The only thing left to do is to run application, and start generating cover letters using your new tool. You can customize it by insering as many or as view of the optional parameters. \n",
    "            </span>\n",
    "        </td>\n",
    "    </tr>\n",
    "</table>"
   ]
  },
  {
   "cell_type": "markdown",
   "metadata": {},
   "source": [
    "<table style=\"margin: 0; text-align: left; width:100%\">\n",
    "    <tr>\n",
    "        <td>\n",
    "            <span style=\"color:#32CD32;\">\n",
    "                Here is an example of a cover letter written by the AI:\n",
    "            </span>\n",
    "        </td>\n",
    "    </tr>\n",
    "</table>"
   ]
  },
  {
   "cell_type": "markdown",
   "metadata": {},
   "source": [
    "Dear Hiring Manager,\n",
    "\n",
    "I am writing to express my enthusiasm for the Software Engineer position at T-Mobile, located in Bellevue, WA. The opportunity to contribute to T-Mobile's renowned Un-carrier initiative and to advance its cutting-edge 5G network aligns closely with my passion for innovative technology solutions and extensive experience in developing scalable web applications.\n",
    "\n",
    "My background at Embark, where I successfully re-architected a legacy application into a high-performing single-page app with a direct impact on increasing revenue by $1.4M annually, has honed my skills in both back-end and front-end technologies. I possess extensive experience utilizing Java and C# for developing REST microservices, as well as jQuery, HTML, and CSS for creating intuitive user interfaces. My proficiency in SQL Server for data management, alongside my use of Swagger for API documentation, directly complements T-Mobile's technical requirements.\n",
    "\n",
    "T-Mobile's dedication to technological progress and user experience speaks to my professional values. I am adept at utilizing tools such as Splunk for reporting and monitoring, as well as Jenkins and GitLab for seamless continuous integration and deployment. I am particularly excited about the opportunity to contribute within T-Mobile's Agile and collaborative environment, leveraging my expertise to drive innovation and connectivity.\n",
    "\n",
    "Thank you for considering my application. I am eager to discuss how my skills and experience can contribute to T-Mobile's continued success and its mission to redefine the wireless industry. I look forward to the opportunity to connect.\n",
    "\n",
    "Sincerely,\n",
    "Charles McTurland"
   ]
  },
  {
   "cell_type": "markdown",
   "metadata": {},
   "source": []
  }
 ],
 "metadata": {
  "kernelspec": {
   "display_name": ".venv",
   "language": "python",
   "name": "python3"
  },
  "language_info": {
   "codemirror_mode": {
    "name": "ipython",
    "version": 3
   },
   "file_extension": ".py",
   "mimetype": "text/x-python",
   "name": "python",
   "nbconvert_exporter": "python",
   "pygments_lexer": "ipython3",
   "version": "3.12.1"
  }
 },
 "nbformat": 4,
 "nbformat_minor": 2
}
